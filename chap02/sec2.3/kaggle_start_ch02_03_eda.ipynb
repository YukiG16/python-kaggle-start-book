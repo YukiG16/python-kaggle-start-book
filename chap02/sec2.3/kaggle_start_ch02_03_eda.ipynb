{
  "metadata": {
    "kernelspec": {
      "display_name": "Python 3",
      "language": "python",
      "name": "python3"
    },
    "language_info": {
      "codemirror_mode": {
        "name": "ipython",
        "version": 3
      },
      "file_extension": ".py",
      "mimetype": "text/x-python",
      "name": "python",
      "nbconvert_exporter": "python",
      "pygments_lexer": "ipython3",
      "version": "3.6.6"
    },
    "file_extension": ".py",
    "mimetype": "text/x-python",
    "name": "python",
    "npconvert_exporter": "python",
    "pygments_lexer": "ipython3",
    "version": 3,
    "kaggle": {
      "accelerator": "none",
      "dataSources": [
        {
          "sourceId": 3136,
          "databundleVersionId": 26502,
          "sourceType": "competition"
        }
      ],
      "dockerImageVersionId": 29849,
      "isInternetEnabled": false,
      "language": "python",
      "sourceType": "notebook",
      "isGpuEnabled": false
    },
    "colab": {
      "provenance": []
    }
  },
  "nbformat_minor": 0,
  "nbformat": 4,
  "cells": [
    {
      "cell_type": "markdown",
      "source": [
        "\n",
        "## Kaggle Start Book in Python\n",
        "\n",
        "(PythonではじめるKaggleスタートブック)\n",
        "\n",
        "Ishihara, Shotaro; Murata, Hideki Practical Data Science Series: Kaggle Start Book in Python (KS Information Science Specialized Book) . Kodansha. Kindle edition.\n",
        "\n",
        "石原祥太郎; 村田秀樹. 実践Data Scienceシリーズ　PythonではじめるKaggleスタートブック (ＫＳ情報科学専門書) . 講談社.\n",
        "\n",
        "# section 2.3 Find your next move! Let's do some exploratory data analysis!\n",
        "\n",
        "(2.3 次の一手を見い出す! 探索的データ分析をしてみよう)"
      ],
      "metadata": {
        "_cell_guid": "e12020f7-4f94-4ecc-9007-9b7a6e7458a6",
        "_uuid": "1fecb0980d8d422ec0f005c4bfd6225385c2c60f",
        "id": "zGjEUbq2BKMb"
      }
    },
    {
      "cell_type": "markdown",
      "source": [
        "original NoteBook :\n",
        "\n",
        "https://www.kaggle.com/code/sishihara/python-kaggle-start-book-ch02-03"
      ],
      "metadata": {
        "id": "E1y2mkc8BKMd"
      }
    },
    {
      "cell_type": "markdown",
      "source": [
        "# Get an overview with Pandas Profiling"
      ],
      "metadata": {
        "id": "bzuZcTAHBKMd"
      }
    },
    {
      "cell_type": "code",
      "source": [
        "'''\n",
        "import pandas as pd\n",
        "import pandas_profiling\n",
        "\n",
        "\n",
        "train = pd.read_csv('../input/titanic/train.csv')\n",
        "train.profile_report()\n",
        "'''"
      ],
      "metadata": {
        "ExecuteTime": {
          "end_time": "2019-10-12T07:30:44.799688Z",
          "start_time": "2019-10-12T07:30:35.804701Z"
        },
        "trusted": true,
        "execution": {
          "iopub.status.busy": "2025-05-25T03:38:12.998894Z",
          "iopub.execute_input": "2025-05-25T03:38:12.999282Z",
          "iopub.status.idle": "2025-05-25T03:38:45.897935Z",
          "shell.execute_reply.started": "2025-05-25T03:38:12.999214Z",
          "shell.execute_reply": "2025-05-25T03:38:45.896330Z"
        },
        "colab": {
          "referenced_widgets": [
            "73191ee3b1974bc6aa4d5a75b20868f9"
          ]
        },
        "id": "OQ9GXKymBKMe",
        "outputId": "7b8ed477-c058-4e88-8fc6-7301af778d16"
      },
      "outputs": [
        {
          "output_type": "display_data",
          "data": {
            "text/plain": "Tab(children=(HTML(value='<div id=\"overview-content\" class=\"row variable spacing\">\\n    <div class=\"row\">\\n   …",
            "application/vnd.jupyter.widget-view+json": {
              "version_major": 2,
              "version_minor": 0,
              "model_id": "73191ee3b1974bc6aa4d5a75b20868f9"
            }
          },
          "metadata": {}
        },
        {
          "output_type": "display_data",
          "data": {
            "text/plain": "<IPython.core.display.HTML object>",
            "text/html": "Report generated with <a href=\"https://github.com/pandas-profiling/pandas-profiling\">pandas-profiling</a>."
          },
          "metadata": {}
        },
        {
          "execution_count": 1,
          "output_type": "execute_result",
          "data": {
            "text/plain": ""
          },
          "metadata": {}
        }
      ],
      "execution_count": null
    },
    {
      "cell_type": "markdown",
      "source": [
        "[Open Browser Console for more detailed log - Double click to close this message]\n",
        "Failed to load model class 'TabModel' from module '@jupyter-widgets/controls'\n",
        "Error: Module @jupyter-widgets/controls, version ^1.5.0 is not registered, however,         2.0.0 is\n",
        "    at f.loadClass (https://kkb-production.jupyter-proxy.kaggle.net/static/dist/jupyterlab/v-90838e9311649fb22d6417e2c18a241e/lab/extensions/@jupyter-widgets/jupyterlab-manager/static/446.fdf8b1b233cb8c1783f6.js?v=fdf8b1b233cb8c1783f6:1:75041)\n",
        "    at f.loadModelClass (https://kkb-production.jupyter-proxy.kaggle.net/static/dist/jupyterlab/v-90838e9311649fb22d6417e2c18a241e/lab/extensions/@jupyter-widgets/jupyterlab-manager/static/327.68dbf8491690b3aff1e7.js?v=68dbf8491690b3aff1e7:1:10729)\n",
        "    at f._make_model (https://kkb-production.jupyter-proxy.kaggle.net/static/dist/jupyterlab/v-90838e9311649fb22d6417e2c18a241e/lab/extensions/@jupyter-widgets/jupyterlab-manager/static/327.68dbf8491690b3aff1e7.js?v=68dbf8491690b3aff1e7:1:7517)\n",
        "    at f.new_model (https://kkb-production.jupyter-proxy.kaggle.net/static/dist/jupyterlab/v-90838e9311649fb22d6417e2c18a241e/lab/extensions/@jupyter-widgets/jupyterlab-manager/static/327.68dbf8491690b3aff1e7.js?v=68dbf8491690b3aff1e7:1:5137)\n",
        "    at f.handle_comm_open (https://kkb-production.jupyter-proxy.kaggle.net/static/dist/jupyterlab/v-90838e9311649fb22d6417e2c18a241e/lab/extensions/@jupyter-widgets/jupyterlab-manager/static/327.68dbf8491690b3aff1e7.js?v=68dbf8491690b3aff1e7:1:3894)\n",
        "    at _handleCommOpen (https://kkb-production.jupyter-proxy.kaggle.net/static/dist/jupyterlab/v-90838e9311649fb22d6417e2c18a241e/lab/extensions/@jupyter-widgets/jupyterlab-manager/static/446.fdf8b1b233cb8c1783f6.js?v=fdf8b1b233cb8c1783f6:1:73457)\n",
        "    at f._handleCommOpen (https://kkb-production.jupyter-proxy.kaggle.net/static/dist/jupyterlab/v-90838e9311649fb22d6417e2c18a241e/notebook/3676.bundle.js:1:30958)\n",
        "    at async f._handleMessage (https://kkb-production.jupyter-proxy.kaggle.net/static/dist/jupyterlab/v-90838e9311649fb22d6417e2c18a241e/notebook/3676.bundle.js:1:32852)"
      ],
      "metadata": {
        "id": "HZ4VppxUBKMf"
      }
    },
    {
      "cell_type": "code",
      "source": [
        "import pandas as pd\n",
        "from pandas_profiling import ProfileReport  # or use ydata_profiling in newer versions\n",
        "\n",
        "train = pd.read_csv('../input/titanic/train.csv')\n",
        "\n",
        "# Generate the report\n",
        "profile = ProfileReport(train, title=\"Titanic Data Report\")\n",
        "\n",
        "# Save it to an HTML file\n",
        "profile.to_file(\"titanic_report.html\")"
      ],
      "metadata": {
        "trusted": true,
        "execution": {
          "iopub.status.busy": "2025-05-25T03:42:27.589278Z",
          "iopub.execute_input": "2025-05-25T03:42:27.589679Z",
          "iopub.status.idle": "2025-05-25T03:42:43.931503Z",
          "shell.execute_reply.started": "2025-05-25T03:42:27.589610Z",
          "shell.execute_reply": "2025-05-25T03:42:43.930545Z"
        },
        "id": "XCTiRiZjBKMg"
      },
      "outputs": [],
      "execution_count": null
    },
    {
      "cell_type": "markdown",
      "source": [
        "# Check the relationship with the objective variable for each feature"
      ],
      "metadata": {
        "id": "kXMrZsV9BKMg"
      }
    },
    {
      "cell_type": "code",
      "source": [
        "import matplotlib.pyplot as plt\n",
        "import seaborn as sns"
      ],
      "metadata": {
        "ExecuteTime": {
          "end_time": "2019-10-12T07:57:30.9371Z",
          "start_time": "2019-10-12T07:57:30.934944Z"
        },
        "trusted": true,
        "execution": {
          "iopub.status.busy": "2025-05-25T03:38:45.901866Z",
          "iopub.execute_input": "2025-05-25T03:38:45.902211Z",
          "iopub.status.idle": "2025-05-25T03:38:45.906862Z",
          "shell.execute_reply.started": "2025-05-25T03:38:45.902152Z",
          "shell.execute_reply": "2025-05-25T03:38:45.905401Z"
        },
        "id": "cAnMBsh_BKMg"
      },
      "outputs": [],
      "execution_count": null
    },
    {
      "cell_type": "markdown",
      "source": [
        "### Relationship between Age and Objective Variables"
      ],
      "metadata": {
        "id": "mxGVo1dvBKMg"
      }
    },
    {
      "cell_type": "markdown",
      "source": [
        "> The bins argument specifies the number of bins (bars to be displayed).\n",
        "\n",
        "> The alpha argument specifies the degree of transparency. The default value is 1.0, which is not transparent. In this case, however, to display two histograms at the same time, 0.5 is specified to make them transparent.\n",
        "\n",
        "Ishihara, Shotaro; Murata, Hideki Kaggle Start Book in Python (KS Information Science Specialized Book) (p.247). Kodansha. Kindle edition."
      ],
      "metadata": {
        "id": "mj9FG1kqWOHQ"
      }
    },
    {
      "cell_type": "code",
      "source": [
        "plt.hist(train.loc[train['Survived'] == 0, 'Age'].dropna(), bins=30, alpha=0.5, label='0')\n",
        "plt.hist(train.loc[train['Survived'] == 1, 'Age'].dropna(), bins=30, alpha=0.5, label='1')\n",
        "plt.xlabel('Age')\n",
        "plt.ylabel('count')\n",
        "plt.legend(title='Survived')\n",
        "plt.show()"
      ],
      "metadata": {
        "trusted": true,
        "execution": {
          "iopub.status.busy": "2025-05-25T03:38:45.908269Z",
          "iopub.execute_input": "2025-05-25T03:38:45.908604Z",
          "iopub.status.idle": "2025-05-25T03:38:46.661992Z",
          "shell.execute_reply.started": "2025-05-25T03:38:45.908540Z",
          "shell.execute_reply": "2025-05-25T03:38:46.660769Z"
        },
        "id": "ScQ4Fy5JBKMh",
        "outputId": "df6dc191-8927-4af3-e6d9-ee541d2c4d22"
      },
      "outputs": [
        {
          "output_type": "display_data",
          "data": {
            "text/plain": "<Figure size 576x396 with 1 Axes>",
            "image/png": "[encoded data removed]"
          },
          "metadata": {}
        }
      ],
      "execution_count": null
    },
    {
      "cell_type": "markdown",
      "source": [
        "### Relationship between SibSp and Objective Variables"
      ],
      "metadata": {
        "id": "BqATlHIMBKMh"
      }
    },
    {
      "cell_type": "markdown",
      "source": [
        ">The hue argument divides the x argument and specifies the column name to be aggregated.\n",
        "\n",
        "Ishihara, Shotaro; Murata, Hideki Kaggle Start Book in Python (KS Information Science Specialized Book) (p.248). Kodansha. Kindle edition."
      ],
      "metadata": {
        "id": "YGyW_W4qXeG7"
      }
    },
    {
      "cell_type": "code",
      "source": [
        "sns.countplot(x='SibSp', hue='Survived', data=train)\n",
        "plt.legend(loc='upper right', title='Survived')\n",
        "plt.show()"
      ],
      "metadata": {
        "trusted": true,
        "execution": {
          "iopub.status.busy": "2025-05-25T03:38:46.663630Z",
          "iopub.execute_input": "2025-05-25T03:38:46.663896Z",
          "iopub.status.idle": "2025-05-25T03:38:47.045904Z",
          "shell.execute_reply.started": "2025-05-25T03:38:46.663853Z",
          "shell.execute_reply": "2025-05-25T03:38:47.043694Z"
        },
        "id": "QLXiddtdBKMh",
        "outputId": "4d290fc0-b1c5-4bcd-da3c-57f219d9bf5e"
      },
      "outputs": [
        {
          "output_type": "display_data",
          "data": {
            "text/plain": "<Figure size 576x396 with 1 Axes>",
            "image/png": "[encoded data removed]"
          },
          "metadata": {}
        }
      ],
      "execution_count": null
    },
    {
      "cell_type": "markdown",
      "source": [
        "### Relationship between Parch and Objective Variables"
      ],
      "metadata": {
        "id": "rNUZE1bhBKMh"
      }
    },
    {
      "cell_type": "code",
      "source": [
        "sns.countplot(x='Parch', hue='Survived', data=train)\n",
        "plt.legend(loc='upper right', title='Survived')\n",
        "plt.show()"
      ],
      "metadata": {
        "trusted": true,
        "execution": {
          "iopub.status.busy": "2025-05-25T03:38:47.047916Z",
          "iopub.execute_input": "2025-05-25T03:38:47.048342Z",
          "iopub.status.idle": "2025-05-25T03:38:47.403404Z",
          "shell.execute_reply.started": "2025-05-25T03:38:47.048271Z",
          "shell.execute_reply": "2025-05-25T03:38:47.401762Z"
        },
        "id": "fcla1jP6BKMh",
        "outputId": "0dc0e043-fe66-441e-f906-8d2e9fac1646"
      },
      "outputs": [
        {
          "output_type": "display_data",
          "data": {
            "text/plain": "<Figure size 576x396 with 1 Axes>",
            "image/png": "[encoded data removed]"
          },
          "metadata": {}
        }
      ],
      "execution_count": null
    },
    {
      "cell_type": "markdown",
      "source": [
        "### Relationship between Fare and Objective Variables"
      ],
      "metadata": {
        "id": "wlaFY_JrBKMi"
      }
    },
    {
      "cell_type": "markdown",
      "source": [
        ">In line 8, matplotlib.pyplot.xlim() is used to specify that the x-axis should display a range from -5 to 250. In this way, matplotlib.pyplot.xlim() allows you to specify a minimum value for the first argument and a maximum value for the second argument to specify the range to be displayed. To specify the range of the y-axis, use matplotlib. pyplot. ylim() .\n",
        "\n",
        "Ishihara, Shotaro; Murata, Hideki Kaggle Start Book in Python (KS Information Science Specialized Book) (p.249). Kodansha. Kindle edition."
      ],
      "metadata": {
        "id": "FFhDT3zoX5yX"
      }
    },
    {
      "cell_type": "code",
      "source": [
        "plt.hist(train.loc[train['Survived'] == 0, 'Fare'].dropna(),\n",
        "         range=(0, 250), bins=25, alpha=0.5, label='0')\n",
        "plt.hist(train.loc[train['Survived'] == 1, 'Fare'].dropna(),\n",
        "         range=(0, 250), bins=25, alpha=0.5, label='1')\n",
        "plt.xlabel('Fare')\n",
        "plt.ylabel('count')\n",
        "plt.legend(title='Survived')\n",
        "plt.xlim(-5, 250)\n",
        "plt.show()"
      ],
      "metadata": {
        "trusted": true,
        "execution": {
          "iopub.status.busy": "2025-05-25T03:38:47.405470Z",
          "iopub.execute_input": "2025-05-25T03:38:47.405883Z",
          "iopub.status.idle": "2025-05-25T03:38:47.862205Z",
          "shell.execute_reply.started": "2025-05-25T03:38:47.405824Z",
          "shell.execute_reply": "2025-05-25T03:38:47.860900Z"
        },
        "id": "nmHGQa6HBKMi",
        "outputId": "b2f75a80-4d27-4e77-8dc4-dfb2e9764865"
      },
      "outputs": [
        {
          "output_type": "display_data",
          "data": {
            "text/plain": "<Figure size 576x396 with 1 Axes>",
            "image/png": "[encoded data removed]"
          },
          "metadata": {}
        }
      ],
      "execution_count": null
    },
    {
      "cell_type": "markdown",
      "source": [
        "### Relationship between the class of Pclass and the objective variable"
      ],
      "metadata": {
        "ExecuteTime": {
          "end_time": "2019-10-12T07:48:19.724685Z",
          "start_time": "2019-10-12T07:48:19.722931Z"
        },
        "id": "XfXcPcS4BKMi"
      }
    },
    {
      "cell_type": "code",
      "source": [
        "sns.countplot(x='Pclass', hue='Survived', data=train)\n",
        "plt.show()"
      ],
      "metadata": {
        "ExecuteTime": {
          "end_time": "2019-10-12T07:48:32.596857Z",
          "start_time": "2019-10-12T07:48:32.511934Z"
        },
        "trusted": true,
        "execution": {
          "iopub.status.busy": "2025-05-25T03:38:47.867464Z",
          "iopub.execute_input": "2025-05-25T03:38:47.867897Z",
          "iopub.status.idle": "2025-05-25T03:38:48.127491Z",
          "shell.execute_reply.started": "2025-05-25T03:38:47.867829Z",
          "shell.execute_reply": "2025-05-25T03:38:48.126052Z"
        },
        "id": "ybKRvTL8BKMi",
        "outputId": "1126a464-39da-4a6c-9fef-a83b0fbaa3ca"
      },
      "outputs": [
        {
          "output_type": "display_data",
          "data": {
            "text/plain": "<Figure size 576x396 with 1 Axes>",
            "image/png": "[encoded data removed]"
          },
          "metadata": {}
        }
      ],
      "execution_count": null
    },
    {
      "cell_type": "markdown",
      "source": [
        "### Relationship between Sex and Objective Variables"
      ],
      "metadata": {
        "id": "HGhQBfCTBKMi"
      }
    },
    {
      "cell_type": "code",
      "source": [
        "sns.countplot(x='Sex', hue='Survived', data=train)\n",
        "plt.show()"
      ],
      "metadata": {
        "ExecuteTime": {
          "end_time": "2019-10-12T07:48:28.106558Z",
          "start_time": "2019-10-12T07:48:28.021915Z"
        },
        "trusted": true,
        "execution": {
          "iopub.status.busy": "2025-05-25T03:38:48.131051Z",
          "iopub.execute_input": "2025-05-25T03:38:48.131492Z",
          "iopub.status.idle": "2025-05-25T03:38:48.377840Z",
          "shell.execute_reply.started": "2025-05-25T03:38:48.131407Z",
          "shell.execute_reply": "2025-05-25T03:38:48.376668Z"
        },
        "id": "VA7Qe-6VBKMi",
        "outputId": "b5f89840-2f96-4636-9884-49a25a89f653"
      },
      "outputs": [
        {
          "output_type": "display_data",
          "data": {
            "text/plain": "<Figure size 576x396 with 1 Axes>",
            "image/png": "[encoded data removed]"
          },
          "metadata": {}
        }
      ],
      "execution_count": null
    },
    {
      "cell_type": "markdown",
      "source": [
        "### Relationship between Embarked and Objective Variables"
      ],
      "metadata": {
        "id": "qludBX78BKMi"
      }
    },
    {
      "cell_type": "code",
      "source": [
        "sns.countplot(x='Embarked', hue='Survived', data=train)\n",
        "plt.show()"
      ],
      "metadata": {
        "trusted": true,
        "execution": {
          "iopub.status.busy": "2025-05-25T03:38:48.379613Z",
          "iopub.execute_input": "2025-05-25T03:38:48.380224Z",
          "iopub.status.idle": "2025-05-25T03:38:48.661717Z",
          "shell.execute_reply.started": "2025-05-25T03:38:48.380159Z",
          "shell.execute_reply": "2025-05-25T03:38:48.660656Z"
        },
        "id": "WX2HqhZSBKMi",
        "outputId": "90225dc5-562a-4361-f526-9c0a0861f991"
      },
      "outputs": [
        {
          "output_type": "display_data",
          "data": {
            "text/plain": "<Figure size 576x396 with 1 Axes>",
            "image/png": "[encoded data removed]"
          },
          "metadata": {}
        }
      ],
      "execution_count": null
    },
    {
      "cell_type": "markdown",
      "source": [
        "https://www.kaggle.com/code/yuki16/kaggle-start-ch02-03-eda"
      ],
      "metadata": {
        "id": "rZChMebnBKMi"
      }
    }
  ]
}