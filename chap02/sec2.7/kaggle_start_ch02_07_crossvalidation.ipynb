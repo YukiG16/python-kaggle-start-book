{
  "metadata": {
    "kernelspec": {
      "display_name": "Python 3",
      "language": "python",
      "name": "python3"
    },
    "language_info": {
      "codemirror_mode": {
        "name": "ipython",
        "version": 3
      },
      "file_extension": ".py",
      "mimetype": "text/x-python",
      "name": "python",
      "nbconvert_exporter": "python",
      "pygments_lexer": "ipython3",
      "version": "3.6.6"
    },
    "file_extension": ".py",
    "mimetype": "text/x-python",
    "name": "python",
    "npconvert_exporter": "python",
    "pygments_lexer": "ipython3",
    "version": 3,
    "kaggle": {
      "accelerator": "none",
      "dataSources": [
        {
          "sourceId": 3136,
          "databundleVersionId": 26502,
          "sourceType": "competition"
        }
      ],
      "dockerImageVersionId": 29849,
      "isInternetEnabled": false,
      "language": "python",
      "sourceType": "notebook",
      "isGpuEnabled": false
    },
    "colab": {
      "provenance": []
    }
  },
  "nbformat_minor": 0,
  "nbformat": 4,
  "cells": [
    {
      "cell_type": "markdown",
      "source": [
        "## Kaggle Start Book in Python\n",
        "\n",
        "(PythonではじめるKaggleスタートブック)\n",
        "\n",
        "Ishihara, Shotaro; Murata, Hideki Practical Data Science Series: Kaggle Start Book in Python (KS Information Science Specialized Book) . Kodansha. Kindle edition.\n",
        "\n",
        "石原祥太郎; 村田秀樹. 実践Data Scienceシリーズ PythonではじめるKaggleスタートブック (ＫＳ情報科学専門書) . 講談社.\n",
        "\n",
        "# section 2.7 Before the Submit! Know the importance of Cross Validation!\n",
        "\n",
        "(2.7 submitのその前に!「Cross Validation」の大切さを知ろう)"
      ],
      "metadata": {
        "_cell_guid": "e12020f7-4f94-4ecc-9007-9b7a6e7458a6",
        "_uuid": "1fecb0980d8d422ec0f005c4bfd6225385c2c60f",
        "id": "p9o8SVKNXA5-"
      }
    },
    {
      "cell_type": "markdown",
      "source": [
        "original NoteBook :\n",
        "\n",
        "https://www.kaggle.com/code/sishihara/python-kaggle-start-book-ch02-07"
      ],
      "metadata": {
        "id": "__NkzsFqXA5_"
      }
    },
    {
      "cell_type": "code",
      "source": [
        "import numpy as np\n",
        "import pandas as pd\n",
        "\n",
        "\n",
        "train = pd.read_csv('../input/titanic/train.csv')\n",
        "test = pd.read_csv('../input/titanic/test.csv')\n",
        "gender_submission = pd.read_csv('../input/titanic/gender_submission.csv')\n",
        "\n",
        "data = pd.concat([train, test], sort=False)\n",
        "\n",
        "data['Sex'].replace(['male', 'female'], [0, 1], inplace=True)\n",
        "data['Embarked'].fillna(('S'), inplace=True)\n",
        "data['Embarked'] = data['Embarked'].map({'S': 0, 'C': 1, 'Q': 2}).astype(int)\n",
        "data['Fare'].fillna(np.mean(data['Fare']), inplace=True)\n",
        "data['Age'].fillna(data['Age'].median(), inplace=True)\n",
        "data['FamilySize'] = data['Parch'] + data['SibSp'] + 1\n",
        "data['IsAlone'] = 0\n",
        "data.loc[data['FamilySize'] == 1, 'IsAlone'] = 1"
      ],
      "metadata": {
        "trusted": true,
        "execution": {
          "iopub.status.busy": "2025-05-24T15:32:20.940910Z",
          "iopub.execute_input": "2025-05-24T15:32:20.941254Z",
          "iopub.status.idle": "2025-05-24T15:32:22.011911Z",
          "shell.execute_reply.started": "2025-05-24T15:32:20.941199Z",
          "shell.execute_reply": "2025-05-24T15:32:22.010934Z"
        },
        "id": "1X62snrKXA6A"
      },
      "outputs": [],
      "execution_count": null
    },
    {
      "cell_type": "code",
      "source": [
        "data.head()"
      ],
      "metadata": {
        "trusted": true,
        "execution": {
          "iopub.status.busy": "2025-05-24T15:32:22.014631Z",
          "iopub.execute_input": "2025-05-24T15:32:22.015090Z",
          "iopub.status.idle": "2025-05-24T15:32:22.043844Z",
          "shell.execute_reply.started": "2025-05-24T15:32:22.015011Z",
          "shell.execute_reply": "2025-05-24T15:32:22.042114Z"
        },
        "id": "rPtyY8ZWXA6B",
        "outputId": "bf3c434a-9121-4596-879e-ec8bf1fae10b"
      },
      "outputs": [
        {
          "execution_count": 2,
          "output_type": "execute_result",
          "data": {
            "text/plain": "   PassengerId  Survived  Pclass  \\\n0            1       0.0       3   \n1            2       1.0       1   \n2            3       1.0       3   \n3            4       1.0       1   \n4            5       0.0       3   \n\n                                                Name  Sex   Age  SibSp  Parch  \\\n0                            Braund, Mr. Owen Harris    0  22.0      1      0   \n1  Cumings, Mrs. John Bradley (Florence Briggs Th...    1  38.0      1      0   \n2                             Heikkinen, Miss. Laina    1  26.0      0      0   \n3       Futrelle, Mrs. Jacques Heath (Lily May Peel)    1  35.0      1      0   \n4                           Allen, Mr. William Henry    0  35.0      0      0   \n\n             Ticket     Fare Cabin  Embarked  FamilySize  IsAlone  \n0         A/5 21171   7.2500   NaN         0           2        0  \n1          PC 17599  71.2833   C85         1           2        0  \n2  STON/O2. 3101282   7.9250   NaN         0           1        1  \n3            113803  53.1000  C123         0           2        0  \n4            373450   8.0500   NaN         0           1        1  ",
            "text/html": "<div>\n<style scoped>\n    .dataframe tbody tr th:only-of-type {\n        vertical-align: middle;\n    }\n\n    .dataframe tbody tr th {\n        vertical-align: top;\n    }\n\n    .dataframe thead th {\n        text-align: right;\n    }\n</style>\n<table border=\"1\" class=\"dataframe\">\n  <thead>\n    <tr style=\"text-align: right;\">\n      <th></th>\n      <th>PassengerId</th>\n      <th>Survived</th>\n      <th>Pclass</th>\n      <th>Name</th>\n      <th>Sex</th>\n      <th>Age</th>\n      <th>SibSp</th>\n      <th>Parch</th>\n      <th>Ticket</th>\n      <th>Fare</th>\n      <th>Cabin</th>\n      <th>Embarked</th>\n      <th>FamilySize</th>\n      <th>IsAlone</th>\n    </tr>\n  </thead>\n  <tbody>\n    <tr>\n      <th>0</th>\n      <td>1</td>\n      <td>0.0</td>\n      <td>3</td>\n      <td>Braund, Mr. Owen Harris</td>\n      <td>0</td>\n      <td>22.0</td>\n      <td>1</td>\n      <td>0</td>\n      <td>A/5 21171</td>\n      <td>7.2500</td>\n      <td>NaN</td>\n      <td>0</td>\n      <td>2</td>\n      <td>0</td>\n    </tr>\n    <tr>\n      <th>1</th>\n      <td>2</td>\n      <td>1.0</td>\n      <td>1</td>\n      <td>Cumings, Mrs. John Bradley (Florence Briggs Th...</td>\n      <td>1</td>\n      <td>38.0</td>\n      <td>1</td>\n      <td>0</td>\n      <td>PC 17599</td>\n      <td>71.2833</td>\n      <td>C85</td>\n      <td>1</td>\n      <td>2</td>\n      <td>0</td>\n    </tr>\n    <tr>\n      <th>2</th>\n      <td>3</td>\n      <td>1.0</td>\n      <td>3</td>\n      <td>Heikkinen, Miss. Laina</td>\n      <td>1</td>\n      <td>26.0</td>\n      <td>0</td>\n      <td>0</td>\n      <td>STON/O2. 3101282</td>\n      <td>7.9250</td>\n      <td>NaN</td>\n      <td>0</td>\n      <td>1</td>\n      <td>1</td>\n    </tr>\n    <tr>\n      <th>3</th>\n      <td>4</td>\n      <td>1.0</td>\n      <td>1</td>\n      <td>Futrelle, Mrs. Jacques Heath (Lily May Peel)</td>\n      <td>1</td>\n      <td>35.0</td>\n      <td>1</td>\n      <td>0</td>\n      <td>113803</td>\n      <td>53.1000</td>\n      <td>C123</td>\n      <td>0</td>\n      <td>2</td>\n      <td>0</td>\n    </tr>\n    <tr>\n      <th>4</th>\n      <td>5</td>\n      <td>0.0</td>\n      <td>3</td>\n      <td>Allen, Mr. William Henry</td>\n      <td>0</td>\n      <td>35.0</td>\n      <td>0</td>\n      <td>0</td>\n      <td>373450</td>\n      <td>8.0500</td>\n      <td>NaN</td>\n      <td>0</td>\n      <td>1</td>\n      <td>1</td>\n    </tr>\n  </tbody>\n</table>\n</div>"
          },
          "metadata": {}
        }
      ],
      "execution_count": null
    },
    {
      "cell_type": "code",
      "source": [
        "delete_columns = ['Name', 'PassengerId', 'Ticket', 'Cabin']\n",
        "data.drop(delete_columns, axis=1, inplace=True)\n",
        "\n",
        "train = data[:len(train)]\n",
        "test = data[len(train):]\n",
        "\n",
        "y_train = train['Survived']\n",
        "X_train = train.drop('Survived', axis=1)\n",
        "X_test = test.drop('Survived', axis=1)"
      ],
      "metadata": {
        "trusted": true,
        "execution": {
          "iopub.status.busy": "2025-05-24T15:32:22.045602Z",
          "iopub.execute_input": "2025-05-24T15:32:22.046543Z",
          "iopub.status.idle": "2025-05-24T15:32:22.057949Z",
          "shell.execute_reply.started": "2025-05-24T15:32:22.046272Z",
          "shell.execute_reply": "2025-05-24T15:32:22.056990Z"
        },
        "id": "WW07CVULXA6C"
      },
      "outputs": [],
      "execution_count": null
    },
    {
      "cell_type": "code",
      "source": [
        "X_train.head()"
      ],
      "metadata": {
        "trusted": true,
        "execution": {
          "iopub.status.busy": "2025-05-24T15:32:22.059349Z",
          "iopub.execute_input": "2025-05-24T15:32:22.059603Z",
          "iopub.status.idle": "2025-05-24T15:32:22.083210Z",
          "shell.execute_reply.started": "2025-05-24T15:32:22.059561Z",
          "shell.execute_reply": "2025-05-24T15:32:22.081947Z"
        },
        "id": "nKiQkacmXA6C",
        "outputId": "1ee3dddb-ed05-4877-9c6c-88366acb5a07"
      },
      "outputs": [
        {
          "execution_count": 4,
          "output_type": "execute_result",
          "data": {
            "text/plain": "   Pclass  Sex   Age  SibSp  Parch     Fare  Embarked  FamilySize  IsAlone\n0       3    0  22.0      1      0   7.2500         0           2        0\n1       1    1  38.0      1      0  71.2833         1           2        0\n2       3    1  26.0      0      0   7.9250         0           1        1\n3       1    1  35.0      1      0  53.1000         0           2        0\n4       3    0  35.0      0      0   8.0500         0           1        1",
            "text/html": "<div>\n<style scoped>\n    .dataframe tbody tr th:only-of-type {\n        vertical-align: middle;\n    }\n\n    .dataframe tbody tr th {\n        vertical-align: top;\n    }\n\n    .dataframe thead th {\n        text-align: right;\n    }\n</style>\n<table border=\"1\" class=\"dataframe\">\n  <thead>\n    <tr style=\"text-align: right;\">\n      <th></th>\n      <th>Pclass</th>\n      <th>Sex</th>\n      <th>Age</th>\n      <th>SibSp</th>\n      <th>Parch</th>\n      <th>Fare</th>\n      <th>Embarked</th>\n      <th>FamilySize</th>\n      <th>IsAlone</th>\n    </tr>\n  </thead>\n  <tbody>\n    <tr>\n      <th>0</th>\n      <td>3</td>\n      <td>0</td>\n      <td>22.0</td>\n      <td>1</td>\n      <td>0</td>\n      <td>7.2500</td>\n      <td>0</td>\n      <td>2</td>\n      <td>0</td>\n    </tr>\n    <tr>\n      <th>1</th>\n      <td>1</td>\n      <td>1</td>\n      <td>38.0</td>\n      <td>1</td>\n      <td>0</td>\n      <td>71.2833</td>\n      <td>1</td>\n      <td>2</td>\n      <td>0</td>\n    </tr>\n    <tr>\n      <th>2</th>\n      <td>3</td>\n      <td>1</td>\n      <td>26.0</td>\n      <td>0</td>\n      <td>0</td>\n      <td>7.9250</td>\n      <td>0</td>\n      <td>1</td>\n      <td>1</td>\n    </tr>\n    <tr>\n      <th>3</th>\n      <td>1</td>\n      <td>1</td>\n      <td>35.0</td>\n      <td>1</td>\n      <td>0</td>\n      <td>53.1000</td>\n      <td>0</td>\n      <td>2</td>\n      <td>0</td>\n    </tr>\n    <tr>\n      <th>4</th>\n      <td>3</td>\n      <td>0</td>\n      <td>35.0</td>\n      <td>0</td>\n      <td>0</td>\n      <td>8.0500</td>\n      <td>0</td>\n      <td>1</td>\n      <td>1</td>\n    </tr>\n  </tbody>\n</table>\n</div>"
          },
          "metadata": {}
        }
      ],
      "execution_count": null
    },
    {
      "cell_type": "markdown",
      "source": [
        "# Hold-out validation"
      ],
      "metadata": {
        "id": "sBd-yJQqXA6D"
      }
    },
    {
      "cell_type": "code",
      "source": [
        "from sklearn.model_selection import train_test_split\n",
        "\n",
        "\n",
        "X_train, X_valid, y_train, y_valid = train_test_split(X_train, y_train, test_size=0.3, random_state=0, stratify=y_train)"
      ],
      "metadata": {
        "trusted": true,
        "execution": {
          "iopub.status.busy": "2025-05-24T15:32:22.086087Z",
          "iopub.execute_input": "2025-05-24T15:32:22.086376Z",
          "iopub.status.idle": "2025-05-24T15:32:24.790869Z",
          "shell.execute_reply.started": "2025-05-24T15:32:22.086319Z",
          "shell.execute_reply": "2025-05-24T15:32:24.789537Z"
        },
        "id": "38JuS3oDXA6D"
      },
      "outputs": [],
      "execution_count": null
    },
    {
      "cell_type": "code",
      "source": [
        "categorical_features = ['Embarked', 'Pclass', 'Sex']"
      ],
      "metadata": {
        "trusted": true,
        "execution": {
          "iopub.status.busy": "2025-05-24T15:32:24.793574Z",
          "iopub.execute_input": "2025-05-24T15:32:24.793913Z",
          "iopub.status.idle": "2025-05-24T15:32:24.798616Z",
          "shell.execute_reply.started": "2025-05-24T15:32:24.793857Z",
          "shell.execute_reply": "2025-05-24T15:32:24.797341Z"
        },
        "id": "Oi3oeE39XA6D"
      },
      "outputs": [],
      "execution_count": null
    },
    {
      "cell_type": "code",
      "source": [
        "params = {\n",
        "    'objective': 'binary',\n",
        "    'max_bin': 300,\n",
        "    'learning_rate': 0.05,\n",
        "    'num_leaves': 40\n",
        "}"
      ],
      "metadata": {
        "trusted": true,
        "execution": {
          "iopub.status.busy": "2025-05-24T15:32:24.800423Z",
          "iopub.execute_input": "2025-05-24T15:32:24.800854Z",
          "iopub.status.idle": "2025-05-24T15:32:24.815304Z",
          "shell.execute_reply.started": "2025-05-24T15:32:24.800779Z",
          "shell.execute_reply": "2025-05-24T15:32:24.814180Z"
        },
        "id": "bMgvTJZaXA6D"
      },
      "outputs": [],
      "execution_count": null
    },
    {
      "cell_type": "code",
      "source": [
        "import lightgbm as lgb\n",
        "\n",
        "\n",
        "lgb_train = lgb.Dataset(X_train, y_train,\n",
        "                                         categorical_feature=categorical_features)\n",
        "lgb_eval = lgb.Dataset(X_valid, y_valid, reference=lgb_train,\n",
        "                                        categorical_feature=categorical_features)\n",
        "\n",
        "model = lgb.train(params, lgb_train,\n",
        "                               valid_sets=[lgb_train, lgb_eval],\n",
        "                               verbose_eval=10,\n",
        "                               num_boost_round=1000,\n",
        "                               early_stopping_rounds=10)\n",
        "\n",
        "y_pred = model.predict(X_test, num_iteration=model.best_iteration)"
      ],
      "metadata": {
        "trusted": true,
        "execution": {
          "iopub.status.busy": "2025-05-24T15:32:24.816790Z",
          "iopub.execute_input": "2025-05-24T15:32:24.817127Z",
          "iopub.status.idle": "2025-05-24T15:32:25.026902Z",
          "shell.execute_reply.started": "2025-05-24T15:32:24.817057Z",
          "shell.execute_reply": "2025-05-24T15:32:25.025993Z"
        },
        "id": "0iVvv7tXXA6E",
        "outputId": "f19921c4-7ba3-4fc3-b647-ac77673ba283"
      },
      "outputs": [
        {
          "name": "stdout",
          "text": "Training until validation scores don't improve for 10 rounds\n[10]\ttraining's binary_logloss: 0.505699\tvalid_1's binary_logloss: 0.532106\n[20]\ttraining's binary_logloss: 0.427825\tvalid_1's binary_logloss: 0.482279\n[30]\ttraining's binary_logloss: 0.377242\tvalid_1's binary_logloss: 0.456641\n[40]\ttraining's binary_logloss: 0.345424\tvalid_1's binary_logloss: 0.447083\n[50]\ttraining's binary_logloss: 0.323113\tvalid_1's binary_logloss: 0.440407\n[60]\ttraining's binary_logloss: 0.302727\tvalid_1's binary_logloss: 0.434527\n[70]\ttraining's binary_logloss: 0.285597\tvalid_1's binary_logloss: 0.434932\nEarly stopping, best iteration is:\n[66]\ttraining's binary_logloss: 0.293072\tvalid_1's binary_logloss: 0.433251\n",
          "output_type": "stream"
        },
        {
          "name": "stderr",
          "text": "/opt/conda/lib/python3.6/site-packages/lightgbm/basic.py:1291: UserWarning: Using categorical_feature in Dataset.\n  warnings.warn('Using categorical_feature in Dataset.')\n",
          "output_type": "stream"
        }
      ],
      "execution_count": null
    },
    {
      "cell_type": "code",
      "source": [
        "y_pred[:10]"
      ],
      "metadata": {
        "trusted": true,
        "execution": {
          "iopub.status.busy": "2025-05-24T15:32:25.027975Z",
          "iopub.execute_input": "2025-05-24T15:32:25.028239Z",
          "iopub.status.idle": "2025-05-24T15:32:25.043742Z",
          "shell.execute_reply.started": "2025-05-24T15:32:25.028201Z",
          "shell.execute_reply": "2025-05-24T15:32:25.042461Z"
        },
        "id": "sceA4fY5XA6E",
        "outputId": "22b084c3-9ec2-42ce-d536-0845ab38e369"
      },
      "outputs": [
        {
          "execution_count": 9,
          "output_type": "execute_result",
          "data": {
            "text/plain": "array([0.03605598, 0.40306884, 0.10732166, 0.0802399 , 0.46011271,\n       0.20222002, 0.64929492, 0.11896033, 0.7452973 , 0.01917651])"
          },
          "metadata": {}
        }
      ],
      "execution_count": null
    },
    {
      "cell_type": "code",
      "source": [
        "y_pred = (y_pred > 0.5).astype(int)\n",
        "y_pred[:10]"
      ],
      "metadata": {
        "trusted": true,
        "execution": {
          "iopub.status.busy": "2025-05-24T15:32:25.045287Z",
          "iopub.execute_input": "2025-05-24T15:32:25.045547Z",
          "iopub.status.idle": "2025-05-24T15:32:25.054254Z",
          "shell.execute_reply.started": "2025-05-24T15:32:25.045500Z",
          "shell.execute_reply": "2025-05-24T15:32:25.053273Z"
        },
        "id": "rD2EPaOUXA6E",
        "outputId": "be7d28a7-dae4-4702-a49d-4b6c354a3bec"
      },
      "outputs": [
        {
          "execution_count": 10,
          "output_type": "execute_result",
          "data": {
            "text/plain": "array([0, 0, 0, 0, 0, 0, 1, 0, 1, 0])"
          },
          "metadata": {}
        }
      ],
      "execution_count": null
    },
    {
      "cell_type": "code",
      "source": [
        "sub = pd.read_csv('../input/titanic/gender_submission.csv')\n",
        "\n",
        "sub['Survived'] = y_pred\n",
        "sub.to_csv('submission_lightgbm_holdout.csv', index=False)\n",
        "\n",
        "sub.head()"
      ],
      "metadata": {
        "trusted": true,
        "execution": {
          "iopub.status.busy": "2025-05-24T15:32:25.056109Z",
          "iopub.execute_input": "2025-05-24T15:32:25.056488Z",
          "iopub.status.idle": "2025-05-24T15:32:25.868254Z",
          "shell.execute_reply.started": "2025-05-24T15:32:25.056418Z",
          "shell.execute_reply": "2025-05-24T15:32:25.867091Z"
        },
        "id": "hppFedYAXA6E",
        "outputId": "b225eb80-af92-4ba4-da3b-e40d4dbd022f"
      },
      "outputs": [
        {
          "execution_count": 11,
          "output_type": "execute_result",
          "data": {
            "text/plain": "   PassengerId  Survived\n0          892         0\n1          893         0\n2          894         0\n3          895         0\n4          896         0",
            "text/html": "<div>\n<style scoped>\n    .dataframe tbody tr th:only-of-type {\n        vertical-align: middle;\n    }\n\n    .dataframe tbody tr th {\n        vertical-align: top;\n    }\n\n    .dataframe thead th {\n        text-align: right;\n    }\n</style>\n<table border=\"1\" class=\"dataframe\">\n  <thead>\n    <tr style=\"text-align: right;\">\n      <th></th>\n      <th>PassengerId</th>\n      <th>Survived</th>\n    </tr>\n  </thead>\n  <tbody>\n    <tr>\n      <th>0</th>\n      <td>892</td>\n      <td>0</td>\n    </tr>\n    <tr>\n      <th>1</th>\n      <td>893</td>\n      <td>0</td>\n    </tr>\n    <tr>\n      <th>2</th>\n      <td>894</td>\n      <td>0</td>\n    </tr>\n    <tr>\n      <th>3</th>\n      <td>895</td>\n      <td>0</td>\n    </tr>\n    <tr>\n      <th>4</th>\n      <td>896</td>\n      <td>0</td>\n    </tr>\n  </tbody>\n</table>\n</div>"
          },
          "metadata": {}
        }
      ],
      "execution_count": null
    },
    {
      "cell_type": "markdown",
      "source": [
        "# Cross Validation\n",
        "\n",
        "（交差検証）"
      ],
      "metadata": {
        "id": "MH0GQezxXA6E"
      }
    },
    {
      "cell_type": "code",
      "source": [
        "train = pd.read_csv('../input/titanic/train.csv')\n",
        "test = pd.read_csv('../input/titanic/test.csv')\n",
        "gender_submission = pd.read_csv('../input/titanic/gender_submission.csv')\n",
        "\n",
        "data = pd.concat([train, test], sort=False)\n",
        "\n",
        "data['Sex'].replace(['male', 'female'], [0, 1], inplace=True)\n",
        "data['Embarked'].fillna(('S'), inplace=True)\n",
        "data['Embarked'] = data['Embarked'].map({'S': 0, 'C': 1, 'Q': 2}).astype(int)\n",
        "data['Fare'].fillna(np.mean(data['Fare']), inplace=True)\n",
        "data['Age'].fillna(data['Age'].median(), inplace=True)\n",
        "data['FamilySize'] = data['Parch'] + data['SibSp'] + 1\n",
        "data['IsAlone'] = 0\n",
        "data.loc[data['FamilySize'] == 1, 'IsAlone'] = 1\n",
        "\n",
        "delete_columns = ['Name', 'PassengerId', 'Ticket', 'Cabin']\n",
        "data.drop(delete_columns, axis=1, inplace=True)\n",
        "\n",
        "train = data[:len(train)]\n",
        "test = data[len(train):]\n",
        "\n",
        "y_train = train['Survived']\n",
        "X_train = train.drop('Survived', axis=1)\n",
        "X_test = test.drop('Survived', axis=1)\n",
        "\n",
        "X_train.head()"
      ],
      "metadata": {
        "trusted": true,
        "jupyter": {
          "source_hidden": true
        },
        "execution": {
          "iopub.status.busy": "2025-05-24T15:32:25.869880Z",
          "iopub.execute_input": "2025-05-24T15:32:25.870245Z",
          "iopub.status.idle": "2025-05-24T15:32:25.929628Z",
          "shell.execute_reply.started": "2025-05-24T15:32:25.870182Z",
          "shell.execute_reply": "2025-05-24T15:32:25.928492Z"
        },
        "id": "nRxHaCWhXA6E",
        "outputId": "05e800a0-bfa8-4b49-e3e1-626bbfa12073"
      },
      "outputs": [
        {
          "execution_count": 12,
          "output_type": "execute_result",
          "data": {
            "text/plain": "   Pclass  Sex   Age  SibSp  Parch     Fare  Embarked  FamilySize  IsAlone\n0       3    0  22.0      1      0   7.2500         0           2        0\n1       1    1  38.0      1      0  71.2833         1           2        0\n2       3    1  26.0      0      0   7.9250         0           1        1\n3       1    1  35.0      1      0  53.1000         0           2        0\n4       3    0  35.0      0      0   8.0500         0           1        1",
            "text/html": "<div>\n<style scoped>\n    .dataframe tbody tr th:only-of-type {\n        vertical-align: middle;\n    }\n\n    .dataframe tbody tr th {\n        vertical-align: top;\n    }\n\n    .dataframe thead th {\n        text-align: right;\n    }\n</style>\n<table border=\"1\" class=\"dataframe\">\n  <thead>\n    <tr style=\"text-align: right;\">\n      <th></th>\n      <th>Pclass</th>\n      <th>Sex</th>\n      <th>Age</th>\n      <th>SibSp</th>\n      <th>Parch</th>\n      <th>Fare</th>\n      <th>Embarked</th>\n      <th>FamilySize</th>\n      <th>IsAlone</th>\n    </tr>\n  </thead>\n  <tbody>\n    <tr>\n      <th>0</th>\n      <td>3</td>\n      <td>0</td>\n      <td>22.0</td>\n      <td>1</td>\n      <td>0</td>\n      <td>7.2500</td>\n      <td>0</td>\n      <td>2</td>\n      <td>0</td>\n    </tr>\n    <tr>\n      <th>1</th>\n      <td>1</td>\n      <td>1</td>\n      <td>38.0</td>\n      <td>1</td>\n      <td>0</td>\n      <td>71.2833</td>\n      <td>1</td>\n      <td>2</td>\n      <td>0</td>\n    </tr>\n    <tr>\n      <th>2</th>\n      <td>3</td>\n      <td>1</td>\n      <td>26.0</td>\n      <td>0</td>\n      <td>0</td>\n      <td>7.9250</td>\n      <td>0</td>\n      <td>1</td>\n      <td>1</td>\n    </tr>\n    <tr>\n      <th>3</th>\n      <td>1</td>\n      <td>1</td>\n      <td>35.0</td>\n      <td>1</td>\n      <td>0</td>\n      <td>53.1000</td>\n      <td>0</td>\n      <td>2</td>\n      <td>0</td>\n    </tr>\n    <tr>\n      <th>4</th>\n      <td>3</td>\n      <td>0</td>\n      <td>35.0</td>\n      <td>0</td>\n      <td>0</td>\n      <td>8.0500</td>\n      <td>0</td>\n      <td>1</td>\n      <td>1</td>\n    </tr>\n  </tbody>\n</table>\n</div>"
          },
          "metadata": {}
        }
      ],
      "execution_count": null
    },
    {
      "cell_type": "code",
      "source": [
        "from sklearn.model_selection import KFold\n",
        "\n",
        "\n",
        "y_preds = []\n",
        "models = []\n",
        "oof_train = np.zeros((len(X_train),))\n",
        "cv = KFold(n_splits=5, shuffle=True, random_state=0)\n",
        "\n",
        "categorical_features = ['Embarked', 'Pclass', 'Sex']\n",
        "\n",
        "params = {\n",
        "    'objective': 'binary',\n",
        "    'max_bin': 300,\n",
        "    'learning_rate': 0.05,\n",
        "    'num_leaves': 40\n",
        "}\n",
        "\n",
        "for fold_id, (train_index, valid_index) in enumerate(cv.split(X_train)):\n",
        "    X_tr = X_train.loc[train_index, :]\n",
        "    X_val = X_train.loc[valid_index, :]\n",
        "    y_tr = y_train[train_index]\n",
        "    y_val = y_train[valid_index]\n",
        "\n",
        "    lgb_train = lgb.Dataset(X_tr, y_tr,\n",
        "                                             categorical_feature=categorical_features)\n",
        "    lgb_eval = lgb.Dataset(X_val, y_val, reference=lgb_train,\n",
        "                                            categorical_feature=categorical_features)\n",
        "\n",
        "    model = lgb.train(params, lgb_train,\n",
        "                                   valid_sets=[lgb_train, lgb_eval],\n",
        "                                   verbose_eval=10,\n",
        "                                   num_boost_round=1000,\n",
        "                                   early_stopping_rounds=10)\n",
        "\n",
        "\n",
        "    oof_train[valid_index] = model.predict(X_val, num_iteration=model.best_iteration)\n",
        "    y_pred = model.predict(X_test, num_iteration=model.best_iteration)\n",
        "\n",
        "    y_preds.append(y_pred)\n",
        "    models.append(model)"
      ],
      "metadata": {
        "trusted": true,
        "execution": {
          "iopub.status.busy": "2025-05-24T15:32:25.931890Z",
          "iopub.execute_input": "2025-05-24T15:32:25.932312Z",
          "iopub.status.idle": "2025-05-24T15:32:26.523655Z",
          "shell.execute_reply.started": "2025-05-24T15:32:25.932238Z",
          "shell.execute_reply": "2025-05-24T15:32:26.522859Z"
        },
        "id": "JReipVMOXA6F",
        "outputId": "e6decf9f-04cc-4970-cdc5-95f008b595ad"
      },
      "outputs": [
        {
          "name": "stderr",
          "text": "/opt/conda/lib/python3.6/site-packages/lightgbm/basic.py:1291: UserWarning: Using categorical_feature in Dataset.\n  warnings.warn('Using categorical_feature in Dataset.')\n",
          "output_type": "stream"
        },
        {
          "name": "stdout",
          "text": "Training until validation scores don't improve for 10 rounds\n[10]\ttraining's binary_logloss: 0.506339\tvalid_1's binary_logloss: 0.516198\n[20]\ttraining's binary_logloss: 0.428668\tvalid_1's binary_logloss: 0.446596\n[30]\ttraining's binary_logloss: 0.383412\tvalid_1's binary_logloss: 0.411961\n[40]\ttraining's binary_logloss: 0.35367\tvalid_1's binary_logloss: 0.397122\n[50]\ttraining's binary_logloss: 0.329451\tvalid_1's binary_logloss: 0.391041\n[60]\ttraining's binary_logloss: 0.307092\tvalid_1's binary_logloss: 0.38325\n[70]\ttraining's binary_logloss: 0.290771\tvalid_1's binary_logloss: 0.377067\n[80]\ttraining's binary_logloss: 0.274935\tvalid_1's binary_logloss: 0.373918\n[90]\ttraining's binary_logloss: 0.260335\tvalid_1's binary_logloss: 0.370602\nEarly stopping, best iteration is:\n[85]\ttraining's binary_logloss: 0.267203\tvalid_1's binary_logloss: 0.369116\nTraining until validation scores don't improve for 10 rounds\n[10]\ttraining's binary_logloss: 0.504211\tvalid_1's binary_logloss: 0.534594\n[20]\ttraining's binary_logloss: 0.422236\tvalid_1's binary_logloss: 0.481243\n[30]\ttraining's binary_logloss: 0.37173\tvalid_1's binary_logloss: 0.459512\n[40]\ttraining's binary_logloss: 0.341914\tvalid_1's binary_logloss: 0.453871\n[50]\ttraining's binary_logloss: 0.318699\tvalid_1's binary_logloss: 0.451806\n[60]\ttraining's binary_logloss: 0.296894\tvalid_1's binary_logloss: 0.449685\nEarly stopping, best iteration is:\n[58]\ttraining's binary_logloss: 0.301388\tvalid_1's binary_logloss: 0.449112\nTraining until validation scores don't improve for 10 rounds\n[10]\ttraining's binary_logloss: 0.506747\tvalid_1's binary_logloss: 0.507713\n[20]\ttraining's binary_logloss: 0.42895\tvalid_1's binary_logloss: 0.449278\n[30]\ttraining's binary_logloss: 0.384356\tvalid_1's binary_logloss: 0.41254\n[40]\ttraining's binary_logloss: 0.355218\tvalid_1's binary_logloss: 0.396228\n[50]\ttraining's binary_logloss: 0.333925\tvalid_1's binary_logloss: 0.387799\n[60]\ttraining's binary_logloss: 0.313799\tvalid_1's binary_logloss: 0.385787\n[70]\ttraining's binary_logloss: 0.298536\tvalid_1's binary_logloss: 0.38534\n[80]\ttraining's binary_logloss: 0.283249\tvalid_1's binary_logloss: 0.383338\n[90]\ttraining's binary_logloss: 0.270355\tvalid_1's binary_logloss: 0.385343\nEarly stopping, best iteration is:\n[80]\ttraining's binary_logloss: 0.283249\tvalid_1's binary_logloss: 0.383338\nTraining until validation scores don't improve for 10 rounds\n[10]\ttraining's binary_logloss: 0.497977\tvalid_1's binary_logloss: 0.525947\n[20]\ttraining's binary_logloss: 0.416873\tvalid_1's binary_logloss: 0.471473\n[30]\ttraining's binary_logloss: 0.368347\tvalid_1's binary_logloss: 0.446558\n[40]\ttraining's binary_logloss: 0.338844\tvalid_1's binary_logloss: 0.437886\n[50]\ttraining's binary_logloss: 0.318398\tvalid_1's binary_logloss: 0.437554\nEarly stopping, best iteration is:\n[41]\ttraining's binary_logloss: 0.336795\tvalid_1's binary_logloss: 0.437121\nTraining until validation scores don't improve for 10 rounds\n[10]\ttraining's binary_logloss: 0.494316\tvalid_1's binary_logloss: 0.552225\n[20]\ttraining's binary_logloss: 0.417327\tvalid_1's binary_logloss: 0.487758\n[30]\ttraining's binary_logloss: 0.370965\tvalid_1's binary_logloss: 0.453038\n[40]\ttraining's binary_logloss: 0.341695\tvalid_1's binary_logloss: 0.439283\n[50]\ttraining's binary_logloss: 0.319843\tvalid_1's binary_logloss: 0.4351\n[60]\ttraining's binary_logloss: 0.301123\tvalid_1's binary_logloss: 0.435584\nEarly stopping, best iteration is:\n[51]\ttraining's binary_logloss: 0.31821\tvalid_1's binary_logloss: 0.4347\n",
          "output_type": "stream"
        }
      ],
      "execution_count": null
    },
    {
      "cell_type": "markdown",
      "source": [
        "> to_csv() is not available in numpy.ndarray, so it is converted to pandas.DataFrame first.\n",
        "\n",
        "Ishihara, Shotaro; Murata, Hideki Kaggle Start Book in Python (KS Information Science Specialized Book) (p.259). Kodansha. Kindle edition."
      ],
      "metadata": {
        "id": "19EJlX5DuxQM"
      }
    },
    {
      "cell_type": "code",
      "source": [
        "pd.DataFrame(oof_train).to_csv('oof_train_kfold.csv', index=False)\n",
        "\n",
        "scores = [\n",
        "    m.best_score['valid_1']['binary_logloss'] for m in models\n",
        "]\n",
        "score = sum(scores) / len(scores)\n",
        "print('===CV scores===')\n",
        "print(scores)\n",
        "print(score)"
      ],
      "metadata": {
        "trusted": true,
        "execution": {
          "iopub.status.busy": "2025-05-24T15:32:26.524903Z",
          "iopub.execute_input": "2025-05-24T15:32:26.525354Z",
          "iopub.status.idle": "2025-05-24T15:32:26.538069Z",
          "shell.execute_reply.started": "2025-05-24T15:32:26.525306Z",
          "shell.execute_reply": "2025-05-24T15:32:26.537198Z"
        },
        "id": "FVutgi0yXA6F",
        "outputId": "cde9f49a-a759-4d61-b03c-8a77dd6e17b0"
      },
      "outputs": [
        {
          "name": "stdout",
          "text": "===CV scores===\n[0.3691161193267495, 0.4491122965802196, 0.3833384988458873, 0.43712149656630833, 0.43469994547894103]\n0.41467767135962114\n",
          "output_type": "stream"
        }
      ],
      "execution_count": null
    },
    {
      "cell_type": "code",
      "source": [
        "from sklearn.metrics import accuracy_score\n",
        "\n",
        "\n",
        "y_pred_oof = (oof_train > 0.5).astype(int)\n",
        "accuracy_score(y_train, y_pred_oof)"
      ],
      "metadata": {
        "trusted": true,
        "execution": {
          "iopub.status.busy": "2025-05-24T15:32:26.539568Z",
          "iopub.execute_input": "2025-05-24T15:32:26.540100Z",
          "iopub.status.idle": "2025-05-24T15:32:26.552295Z",
          "shell.execute_reply.started": "2025-05-24T15:32:26.540050Z",
          "shell.execute_reply": "2025-05-24T15:32:26.551260Z"
        },
        "id": "y99XKyrnXA6F",
        "outputId": "983362a4-80f5-4c66-a726-3f6e00f0a55e"
      },
      "outputs": [
        {
          "execution_count": 15,
          "output_type": "execute_result",
          "data": {
            "text/plain": "0.8226711560044894"
          },
          "metadata": {}
        }
      ],
      "execution_count": null
    },
    {
      "cell_type": "code",
      "source": [
        "len(y_preds)"
      ],
      "metadata": {
        "trusted": true,
        "execution": {
          "iopub.status.busy": "2025-05-24T15:32:26.553528Z",
          "iopub.execute_input": "2025-05-24T15:32:26.553860Z",
          "iopub.status.idle": "2025-05-24T15:32:26.570030Z",
          "shell.execute_reply.started": "2025-05-24T15:32:26.553808Z",
          "shell.execute_reply": "2025-05-24T15:32:26.568373Z"
        },
        "id": "Pzhd7XvvXA6F",
        "outputId": "1ec913b5-da5e-44cd-803d-264040dc47d9"
      },
      "outputs": [
        {
          "execution_count": 16,
          "output_type": "execute_result",
          "data": {
            "text/plain": "5"
          },
          "metadata": {}
        }
      ],
      "execution_count": null
    },
    {
      "cell_type": "code",
      "source": [
        "y_preds[0][:10]"
      ],
      "metadata": {
        "trusted": true,
        "execution": {
          "iopub.status.busy": "2025-05-24T15:32:26.572088Z",
          "iopub.execute_input": "2025-05-24T15:32:26.572554Z",
          "iopub.status.idle": "2025-05-24T15:32:26.591382Z",
          "shell.execute_reply.started": "2025-05-24T15:32:26.572450Z",
          "shell.execute_reply": "2025-05-24T15:32:26.589683Z"
        },
        "id": "EZO2AS-cXA6F",
        "outputId": "e5292fea-144d-4691-ae58-3ebb3eb1c3eb"
      },
      "outputs": [
        {
          "execution_count": 17,
          "output_type": "execute_result",
          "data": {
            "text/plain": "array([0.07120088, 0.18601086, 0.02400096, 0.40979176, 0.40890152,\n       0.4906518 , 0.580799  , 0.21157361, 0.82465467, 0.01063327])"
          },
          "metadata": {}
        }
      ],
      "execution_count": null
    },
    {
      "cell_type": "code",
      "source": [
        "y_sub = sum(y_preds) / len(y_preds)\n",
        "y_sub = (y_sub > 0.5).astype(int)\n",
        "y_sub[:10]"
      ],
      "metadata": {
        "trusted": true,
        "execution": {
          "iopub.status.busy": "2025-05-24T15:32:26.593066Z",
          "iopub.execute_input": "2025-05-24T15:32:26.593474Z",
          "iopub.status.idle": "2025-05-24T15:32:26.607793Z",
          "shell.execute_reply.started": "2025-05-24T15:32:26.593346Z",
          "shell.execute_reply": "2025-05-24T15:32:26.606321Z"
        },
        "id": "82lV3P_fXA6F",
        "outputId": "c873f35e-23ef-4e38-abfc-fc0e73ff05ad"
      },
      "outputs": [
        {
          "execution_count": 18,
          "output_type": "execute_result",
          "data": {
            "text/plain": "array([0, 0, 0, 0, 0, 0, 1, 0, 1, 0])"
          },
          "metadata": {}
        }
      ],
      "execution_count": null
    },
    {
      "cell_type": "code",
      "source": [
        "sub['Survived'] = y_sub\n",
        "sub.to_csv('submission_lightgbm_kfold.csv', index=False)\n",
        "\n",
        "sub.head()"
      ],
      "metadata": {
        "trusted": true,
        "execution": {
          "iopub.status.busy": "2025-05-24T15:32:26.609588Z",
          "iopub.execute_input": "2025-05-24T15:32:26.610165Z",
          "iopub.status.idle": "2025-05-24T15:32:26.632841Z",
          "shell.execute_reply.started": "2025-05-24T15:32:26.610059Z",
          "shell.execute_reply": "2025-05-24T15:32:26.631807Z"
        },
        "id": "tDFu4ahRXA6F",
        "outputId": "4b895707-01b8-4bd9-b8a0-d981384ea6ca"
      },
      "outputs": [
        {
          "execution_count": 19,
          "output_type": "execute_result",
          "data": {
            "text/plain": "   PassengerId  Survived\n0          892         0\n1          893         0\n2          894         0\n3          895         0\n4          896         0",
            "text/html": "<div>\n<style scoped>\n    .dataframe tbody tr th:only-of-type {\n        vertical-align: middle;\n    }\n\n    .dataframe tbody tr th {\n        vertical-align: top;\n    }\n\n    .dataframe thead th {\n        text-align: right;\n    }\n</style>\n<table border=\"1\" class=\"dataframe\">\n  <thead>\n    <tr style=\"text-align: right;\">\n      <th></th>\n      <th>PassengerId</th>\n      <th>Survived</th>\n    </tr>\n  </thead>\n  <tbody>\n    <tr>\n      <th>0</th>\n      <td>892</td>\n      <td>0</td>\n    </tr>\n    <tr>\n      <th>1</th>\n      <td>893</td>\n      <td>0</td>\n    </tr>\n    <tr>\n      <th>2</th>\n      <td>894</td>\n      <td>0</td>\n    </tr>\n    <tr>\n      <th>3</th>\n      <td>895</td>\n      <td>0</td>\n    </tr>\n    <tr>\n      <th>4</th>\n      <td>896</td>\n      <td>0</td>\n    </tr>\n  </tbody>\n</table>\n</div>"
          },
          "metadata": {}
        }
      ],
      "execution_count": null
    },
    {
      "cell_type": "markdown",
      "source": [
        "# Data set partitioning methods"
      ],
      "metadata": {
        "id": "n_g3GbPPXA6F"
      }
    },
    {
      "cell_type": "code",
      "source": [
        "from sklearn.model_selection import KFold\n",
        "\n",
        "\n",
        "cv = KFold(n_splits=5, shuffle=True, random_state=0)\n",
        "for fold_id, (train_index, valid_index) in enumerate(cv.split(X_train)):\n",
        "    X_tr = X_train.loc[train_index, :]\n",
        "    X_val = X_train.loc[valid_index, :]\n",
        "    y_tr = y_train[train_index]\n",
        "    y_val = y_train[valid_index]\n",
        "\n",
        "    print(f'fold_id: {fold_id}')\n",
        "    print(f'y_tr y==1 rate: {sum(y_tr)/len(y_tr)}')\n",
        "    print(f'y_val y==1 rate: {sum(y_val)/len(y_val)}')"
      ],
      "metadata": {
        "trusted": true,
        "execution": {
          "iopub.status.busy": "2025-05-24T15:32:26.634622Z",
          "iopub.execute_input": "2025-05-24T15:32:26.635119Z",
          "iopub.status.idle": "2025-05-24T15:32:26.682651Z",
          "shell.execute_reply.started": "2025-05-24T15:32:26.635048Z",
          "shell.execute_reply": "2025-05-24T15:32:26.681524Z"
        },
        "id": "9XgXKV9xXA6F",
        "outputId": "31881a6a-b202-40b5-8000-0a5ae5e9cec2"
      },
      "outputs": [
        {
          "name": "stdout",
          "text": "fold_id: 0\ny_tr y==1 rate: 0.38342696629213485\ny_val y==1 rate: 0.3854748603351955\nfold_id: 1\ny_tr y==1 rate: 0.3856942496493689\ny_val y==1 rate: 0.37640449438202245\nfold_id: 2\ny_tr y==1 rate: 0.39831697054698456\ny_val y==1 rate: 0.3258426966292135\nfold_id: 3\ny_tr y==1 rate: 0.3856942496493689\ny_val y==1 rate: 0.37640449438202245\nfold_id: 4\ny_tr y==1 rate: 0.36605890603085556\ny_val y==1 rate: 0.4550561797752809\n",
          "output_type": "stream"
        }
      ],
      "execution_count": null
    },
    {
      "cell_type": "code",
      "source": [
        "from sklearn.model_selection import StratifiedKFold\n",
        "\n",
        "\n",
        "cv = StratifiedKFold(n_splits=5, shuffle=True, random_state=0)\n",
        "for fold_id, (train_index, valid_index) in enumerate(cv.split(X_train, y_train)):\n",
        "    X_tr = X_train.loc[train_index, :]\n",
        "    X_val = X_train.loc[valid_index, :]\n",
        "    y_tr = y_train[train_index]\n",
        "    y_val = y_train[valid_index]\n",
        "\n",
        "    print(f'fold_id: {fold_id}')\n",
        "    print(f'y_tr y==1 rate: {sum(y_tr)/len(y_tr)}')\n",
        "    print(f'y_val y==1 rate: {sum(y_val)/len(y_val)}')"
      ],
      "metadata": {
        "trusted": true,
        "execution": {
          "iopub.status.busy": "2025-05-24T15:32:26.684016Z",
          "iopub.execute_input": "2025-05-24T15:32:26.684275Z",
          "iopub.status.idle": "2025-05-24T15:32:26.728387Z",
          "shell.execute_reply.started": "2025-05-24T15:32:26.684231Z",
          "shell.execute_reply": "2025-05-24T15:32:26.727115Z"
        },
        "id": "a1ZYWDwwXA6G",
        "outputId": "64dfe08f-bb08-438b-bc9d-bc284c2970fd"
      },
      "outputs": [
        {
          "name": "stdout",
          "text": "fold_id: 0\ny_tr y==1 rate: 0.38342696629213485\ny_val y==1 rate: 0.3854748603351955\nfold_id: 1\ny_tr y==1 rate: 0.38342696629213485\ny_val y==1 rate: 0.3854748603351955\nfold_id: 2\ny_tr y==1 rate: 0.38429172510518933\ny_val y==1 rate: 0.38202247191011235\nfold_id: 3\ny_tr y==1 rate: 0.38429172510518933\ny_val y==1 rate: 0.38202247191011235\nfold_id: 4\ny_tr y==1 rate: 0.38375350140056025\ny_val y==1 rate: 0.384180790960452\n",
          "output_type": "stream"
        }
      ],
      "execution_count": null
    },
    {
      "cell_type": "code",
      "source": [
        "from sklearn.model_selection import StratifiedKFold\n",
        "\n",
        "\n",
        "y_preds = []\n",
        "models = []\n",
        "oof_train = np.zeros((len(X_train),))\n",
        "cv = StratifiedKFold(n_splits=5, shuffle=True, random_state=0)\n",
        "\n",
        "categorical_features = ['Embarked', 'Pclass', 'Sex']\n",
        "\n",
        "params = {\n",
        "    'objective': 'binary',\n",
        "    'max_bin': 300,\n",
        "    'learning_rate': 0.05,\n",
        "    'num_leaves': 40\n",
        "}\n",
        "\n",
        "for fold_id, (train_index, valid_index) in enumerate(cv.split(X_train, y_train)):\n",
        "    X_tr = X_train.loc[train_index, :]\n",
        "    X_val = X_train.loc[valid_index, :]\n",
        "    y_tr = y_train[train_index]\n",
        "    y_val = y_train[valid_index]\n",
        "\n",
        "    lgb_train = lgb.Dataset(X_tr, y_tr,\n",
        "                                             categorical_feature=categorical_features)\n",
        "    lgb_eval = lgb.Dataset(X_val, y_val, reference=lgb_train,\n",
        "                                            categorical_feature=categorical_features)\n",
        "\n",
        "    model = lgb.train(params, lgb_train,\n",
        "                                   valid_sets=[lgb_train, lgb_eval],\n",
        "                                   verbose_eval=10,\n",
        "                                   num_boost_round=1000,\n",
        "                                   early_stopping_rounds=10)\n",
        "\n",
        "    oof_train[valid_index] = model.predict(X_val, num_iteration=model.best_iteration)\n",
        "    y_pred = model.predict(X_test, num_iteration=model.best_iteration)\n",
        "\n",
        "    y_preds.append(y_pred)\n",
        "    models.append(model)"
      ],
      "metadata": {
        "trusted": true,
        "execution": {
          "iopub.status.busy": "2025-05-24T15:32:26.730176Z",
          "iopub.execute_input": "2025-05-24T15:32:26.730540Z",
          "iopub.status.idle": "2025-05-24T15:32:27.303005Z",
          "shell.execute_reply.started": "2025-05-24T15:32:26.730483Z",
          "shell.execute_reply": "2025-05-24T15:32:27.299402Z"
        },
        "id": "ix8J6nLzXA6G",
        "outputId": "4405a5fd-83dc-45d3-8b6e-c671d81ba929"
      },
      "outputs": [
        {
          "name": "stdout",
          "text": "Training until validation scores don't improve for 10 rounds\n[10]\ttraining's binary_logloss: 0.497173\tvalid_1's binary_logloss: 0.548361\n[20]\ttraining's binary_logloss: 0.415497\tvalid_1's binary_logloss: 0.495272\n[30]\ttraining's binary_logloss: 0.368839\tvalid_1's binary_logloss: 0.469941\n[40]\ttraining's binary_logloss: 0.337704\tvalid_1's binary_logloss: 0.455887\n[50]\ttraining's binary_logloss: 0.31511\tvalid_1's binary_logloss: 0.448996\n[60]\ttraining's binary_logloss: 0.294249\tvalid_1's binary_logloss: 0.454425\nEarly stopping, best iteration is:\n[50]\ttraining's binary_logloss: 0.31511\tvalid_1's binary_logloss: 0.448996\nTraining until validation scores don't improve for 10 rounds\n[10]\ttraining's binary_logloss: 0.503723\tvalid_1's binary_logloss: 0.512133\n[20]\ttraining's binary_logloss: 0.427557\tvalid_1's binary_logloss: 0.451233\n[30]\ttraining's binary_logloss: 0.382201\tvalid_1's binary_logloss: 0.413801\n",
          "output_type": "stream"
        },
        {
          "name": "stderr",
          "text": "/opt/conda/lib/python3.6/site-packages/lightgbm/basic.py:1291: UserWarning: Using categorical_feature in Dataset.\n  warnings.warn('Using categorical_feature in Dataset.')\n",
          "output_type": "stream"
        },
        {
          "name": "stdout",
          "text": "[40]\ttraining's binary_logloss: 0.352641\tvalid_1's binary_logloss: 0.400884\n[50]\ttraining's binary_logloss: 0.330781\tvalid_1's binary_logloss: 0.397443\n[60]\ttraining's binary_logloss: 0.311659\tvalid_1's binary_logloss: 0.396539\nEarly stopping, best iteration is:\n[55]\ttraining's binary_logloss: 0.320785\tvalid_1's binary_logloss: 0.394951\nTraining until validation scores don't improve for 10 rounds\n[10]\ttraining's binary_logloss: 0.505627\tvalid_1's binary_logloss: 0.512659\n[20]\ttraining's binary_logloss: 0.427425\tvalid_1's binary_logloss: 0.445498\n[30]\ttraining's binary_logloss: 0.379715\tvalid_1's binary_logloss: 0.411298\n[40]\ttraining's binary_logloss: 0.348551\tvalid_1's binary_logloss: 0.395933\n[50]\ttraining's binary_logloss: 0.324856\tvalid_1's binary_logloss: 0.38959\n[60]\ttraining's binary_logloss: 0.304612\tvalid_1's binary_logloss: 0.383849\n[70]\ttraining's binary_logloss: 0.28703\tvalid_1's binary_logloss: 0.384518\nEarly stopping, best iteration is:\n[64]\ttraining's binary_logloss: 0.298425\tvalid_1's binary_logloss: 0.382113\nTraining until validation scores don't improve for 10 rounds\n[10]\ttraining's binary_logloss: 0.501523\tvalid_1's binary_logloss: 0.536382\n[20]\ttraining's binary_logloss: 0.420578\tvalid_1's binary_logloss: 0.482229\n[30]\ttraining's binary_logloss: 0.377598\tvalid_1's binary_logloss: 0.461077\n[40]\ttraining's binary_logloss: 0.349149\tvalid_1's binary_logloss: 0.448919\n[50]\ttraining's binary_logloss: 0.32552\tvalid_1's binary_logloss: 0.440548\n[60]\ttraining's binary_logloss: 0.305819\tvalid_1's binary_logloss: 0.435093\n[70]\ttraining's binary_logloss: 0.288929\tvalid_1's binary_logloss: 0.435729\nEarly stopping, best iteration is:\n[65]\ttraining's binary_logloss: 0.297083\tvalid_1's binary_logloss: 0.433996\nTraining until validation scores don't improve for 10 rounds\n[10]\ttraining's binary_logloss: 0.497914\tvalid_1's binary_logloss: 0.534421\n[20]\ttraining's binary_logloss: 0.417822\tvalid_1's binary_logloss: 0.489135\n[30]\ttraining's binary_logloss: 0.368492\tvalid_1's binary_logloss: 0.466391\n[40]\ttraining's binary_logloss: 0.337723\tvalid_1's binary_logloss: 0.458283\n[50]\ttraining's binary_logloss: 0.316279\tvalid_1's binary_logloss: 0.461188\nEarly stopping, best iteration is:\n[40]\ttraining's binary_logloss: 0.337723\tvalid_1's binary_logloss: 0.458283\n",
          "output_type": "stream"
        }
      ],
      "execution_count": null
    },
    {
      "cell_type": "code",
      "source": [
        "pd.DataFrame(oof_train).to_csv('oof_train_skfold.csv', index=False)\n",
        "print(oof_train[:10])\n",
        "\n",
        "scores = [\n",
        "    m.best_score['valid_1']['binary_logloss'] for m in models\n",
        "]\n",
        "score = sum(scores) / len(scores)\n",
        "print('===CV scores===')\n",
        "print(scores)\n",
        "print(score)"
      ],
      "metadata": {
        "trusted": true,
        "execution": {
          "iopub.status.busy": "2025-05-24T15:32:27.304616Z",
          "iopub.execute_input": "2025-05-24T15:32:27.305002Z",
          "iopub.status.idle": "2025-05-24T15:32:27.324059Z",
          "shell.execute_reply.started": "2025-05-24T15:32:27.304933Z",
          "shell.execute_reply": "2025-05-24T15:32:27.322938Z"
        },
        "id": "RlqdUmpsXA6G",
        "outputId": "476a0bfd-2d9f-4410-b70b-cd01f9b0c35b"
      },
      "outputs": [
        {
          "name": "stdout",
          "text": "[0.12960226 0.97051442 0.21027611 0.97354071 0.14069274 0.14504993\n 0.12983479 0.35898845 0.48175438 0.94465218]\n===CV scores===\n[0.4489959713813429, 0.39495136241745704, 0.38211327231368936, 0.43399642500840235, 0.45828266546427543]\n0.4236679393170334\n",
          "output_type": "stream"
        }
      ],
      "execution_count": null
    },
    {
      "cell_type": "code",
      "source": [
        "from sklearn.metrics import accuracy_score\n",
        "\n",
        "\n",
        "y_pred_oof = (oof_train > 0.5).astype(int)\n",
        "accuracy_score(y_train, y_pred_oof)"
      ],
      "metadata": {
        "trusted": true,
        "execution": {
          "iopub.status.busy": "2025-05-24T15:32:27.325500Z",
          "iopub.execute_input": "2025-05-24T15:32:27.326375Z",
          "iopub.status.idle": "2025-05-24T15:32:27.334058Z",
          "shell.execute_reply.started": "2025-05-24T15:32:27.325786Z",
          "shell.execute_reply": "2025-05-24T15:32:27.333183Z"
        },
        "id": "gYlbWj57XA6G",
        "outputId": "eda1beaa-3ae0-48a5-ba8a-8b42e5232d5c"
      },
      "outputs": [
        {
          "execution_count": 24,
          "output_type": "execute_result",
          "data": {
            "text/plain": "0.8092031425364759"
          },
          "metadata": {}
        }
      ],
      "execution_count": null
    },
    {
      "cell_type": "code",
      "source": [
        "y_sub = sum(y_preds) / len(y_preds)\n",
        "y_sub = (y_sub > 0.5).astype(int)\n",
        "y_sub[:10]"
      ],
      "metadata": {
        "trusted": true,
        "execution": {
          "iopub.status.busy": "2025-05-24T15:32:27.335672Z",
          "iopub.execute_input": "2025-05-24T15:32:27.336111Z",
          "iopub.status.idle": "2025-05-24T15:32:27.354429Z",
          "shell.execute_reply.started": "2025-05-24T15:32:27.336052Z",
          "shell.execute_reply": "2025-05-24T15:32:27.353271Z"
        },
        "id": "UWJfokOmXA6G",
        "outputId": "73d8b05b-91e9-45f0-f2cc-158852e3081d"
      },
      "outputs": [
        {
          "execution_count": 25,
          "output_type": "execute_result",
          "data": {
            "text/plain": "array([0, 0, 0, 0, 0, 0, 1, 0, 1, 0])"
          },
          "metadata": {}
        }
      ],
      "execution_count": null
    },
    {
      "cell_type": "code",
      "source": [
        "sub['Survived'] = y_sub\n",
        "sub.to_csv('submission_lightgbm_skfold.csv', index=False)\n",
        "\n",
        "sub.head()"
      ],
      "metadata": {
        "trusted": true,
        "execution": {
          "iopub.status.busy": "2025-05-24T15:32:27.356114Z",
          "iopub.execute_input": "2025-05-24T15:32:27.356554Z",
          "iopub.status.idle": "2025-05-24T15:32:27.375563Z",
          "shell.execute_reply.started": "2025-05-24T15:32:27.356438Z",
          "shell.execute_reply": "2025-05-24T15:32:27.374667Z"
        },
        "id": "t9NIZy5BXA6G",
        "outputId": "54f49359-9295-49f1-a889-4529ac86f289"
      },
      "outputs": [
        {
          "execution_count": 26,
          "output_type": "execute_result",
          "data": {
            "text/plain": "   PassengerId  Survived\n0          892         0\n1          893         0\n2          894         0\n3          895         0\n4          896         0",
            "text/html": "<div>\n<style scoped>\n    .dataframe tbody tr th:only-of-type {\n        vertical-align: middle;\n    }\n\n    .dataframe tbody tr th {\n        vertical-align: top;\n    }\n\n    .dataframe thead th {\n        text-align: right;\n    }\n</style>\n<table border=\"1\" class=\"dataframe\">\n  <thead>\n    <tr style=\"text-align: right;\">\n      <th></th>\n      <th>PassengerId</th>\n      <th>Survived</th>\n    </tr>\n  </thead>\n  <tbody>\n    <tr>\n      <th>0</th>\n      <td>892</td>\n      <td>0</td>\n    </tr>\n    <tr>\n      <th>1</th>\n      <td>893</td>\n      <td>0</td>\n    </tr>\n    <tr>\n      <th>2</th>\n      <td>894</td>\n      <td>0</td>\n    </tr>\n    <tr>\n      <th>3</th>\n      <td>895</td>\n      <td>0</td>\n    </tr>\n    <tr>\n      <th>4</th>\n      <td>896</td>\n      <td>0</td>\n    </tr>\n  </tbody>\n</table>\n</div>"
          },
          "metadata": {}
        }
      ],
      "execution_count": null
    },
    {
      "cell_type": "code",
      "source": [
        "sub.to_csv('submission.csv', index=False)"
      ],
      "metadata": {
        "trusted": true,
        "execution": {
          "iopub.status.busy": "2025-05-24T15:32:36.935645Z",
          "iopub.execute_input": "2025-05-24T15:32:36.936030Z",
          "iopub.status.idle": "2025-05-24T15:32:36.944385Z",
          "shell.execute_reply.started": "2025-05-24T15:32:36.935968Z",
          "shell.execute_reply": "2025-05-24T15:32:36.943374Z"
        },
        "id": "hZAznFo3XA6G"
      },
      "outputs": [],
      "execution_count": null
    },
    {
      "cell_type": "markdown",
      "source": [
        "Result:\n",
        "\n",
        "Your Best Entry!\n",
        "Your most recent submission scored 0.76794, which is an improvement of your previous score of 0.76315. Great job!\n",
        "\n",
        "Moved up to rank 10895, soon the robots will have my job. #kaggle - https://kaggle.com/competitions/titanic"
      ],
      "metadata": {
        "id": "ORY4TcntXA6G"
      }
    }
  ]
}