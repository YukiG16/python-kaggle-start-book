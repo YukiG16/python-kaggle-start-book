{
  "metadata": {
    "kernelspec": {
      "language": "python",
      "display_name": "Python 3",
      "name": "python3"
    },
    "language_info": {
      "name": "python",
      "version": "3.10.10",
      "mimetype": "text/x-python",
      "codemirror_mode": {
        "name": "ipython",
        "version": 3
      },
      "pygments_lexer": "ipython3",
      "nbconvert_exporter": "python",
      "file_extension": ".py"
    },
    "kaggle": {
      "accelerator": "none",
      "dataSources": [
        {
          "sourceId": 3136,
          "databundleVersionId": 26502,
          "sourceType": "competition"
        }
      ],
      "dockerImageVersionId": 30474,
      "isInternetEnabled": false,
      "language": "python",
      "sourceType": "notebook",
      "isGpuEnabled": false
    },
    "colab": {
      "provenance": []
    }
  },
  "nbformat_minor": 0,
  "nbformat": 4,
  "cells": [
    {
      "cell_type": "markdown",
      "source": [
        "## Kaggle Start Book in Python\n",
        "\n",
        "(PythonではじめるKaggleスタートブック)\n",
        "\n",
        "Ishihara, Shotaro; Murata, Hideki Practical Data Science Series: Kaggle Start Book in Python (KS Information Science Specialized Book) . Kodansha. Kindle edition.\n",
        "\n",
        "石原祥太郎; 村田秀樹. 実践Data Scienceシリーズ PythonではじめるKaggleスタートブック (ＫＳ情報科学専門書) . 講談社.\n",
        "\n",
        "\n",
        "# 2.5 勾配ブースティングが最強？！ いろいろな機械学習アルゴリズムを使ってみよう\n",
        "\n",
        "# (section 2.5 Is gradient boosting the best? Let's try different machine learning algorithms!)"
      ],
      "metadata": {
        "_cell_guid": "e12020f7-4f94-4ecc-9007-9b7a6e7458a6",
        "_uuid": "1fecb0980d8d422ec0f005c4bfd6225385c2c60f",
        "id": "3BqabwaOZTAM"
      }
    },
    {
      "cell_type": "markdown",
      "source": [
        "original NoteBook :\n",
        "\n",
        "https://www.kaggle.com/code/sishihara/python-kaggle-start-book-ch02-05"
      ],
      "metadata": {
        "id": "iDCqRN8eZTAO"
      }
    },
    {
      "cell_type": "code",
      "source": [
        "import numpy as np\n",
        "import pandas as pd\n",
        "\n",
        "\n",
        "train = pd.read_csv('../input/titanic/train.csv')\n",
        "test = pd.read_csv('../input/titanic/test.csv')\n",
        "gender_submission = pd.read_csv('../input/titanic/gender_submission.csv')\n",
        "\n",
        "data = pd.concat([train, test], sort=False)\n",
        "\n",
        "data['Sex'].replace(['male', 'female'], [0, 1], inplace=True)\n",
        "data['Embarked'].fillna(('S'), inplace=True)\n",
        "data['Embarked'] = data['Embarked'].map({'S': 0, 'C': 1, 'Q': 2}).astype(int)\n",
        "data['Fare'].fillna(np.mean(data['Fare']), inplace=True)\n",
        "data['Age'].fillna(data['Age'].median(), inplace=True)\n",
        "data['FamilySize'] = data['Parch'] + data['SibSp'] + 1\n",
        "data['IsAlone'] = 0\n",
        "data.loc[data['FamilySize'] == 1, 'IsAlone'] = 1"
      ],
      "metadata": {
        "execution": {
          "iopub.status.busy": "2025-05-24T10:17:30.635754Z",
          "iopub.execute_input": "2025-05-24T10:17:30.636205Z",
          "iopub.status.idle": "2025-05-24T10:17:30.745130Z",
          "shell.execute_reply.started": "2025-05-24T10:17:30.636163Z",
          "shell.execute_reply": "2025-05-24T10:17:30.743885Z"
        },
        "trusted": true,
        "id": "nd5R7X5nZTAP"
      },
      "outputs": [],
      "execution_count": null
    },
    {
      "cell_type": "code",
      "source": [
        "data.head()"
      ],
      "metadata": {
        "execution": {
          "iopub.status.busy": "2025-05-24T10:17:30.746688Z",
          "iopub.execute_input": "2025-05-24T10:17:30.747021Z",
          "iopub.status.idle": "2025-05-24T10:17:30.787683Z",
          "shell.execute_reply.started": "2025-05-24T10:17:30.746994Z",
          "shell.execute_reply": "2025-05-24T10:17:30.786531Z"
        },
        "trusted": true,
        "id": "NRE-4gsnZTAQ",
        "outputId": "6946419e-3f32-45e6-fbd2-09579378775a"
      },
      "outputs": [
        {
          "execution_count": 2,
          "output_type": "execute_result",
          "data": {
            "text/plain": "   PassengerId  Survived  Pclass  \\\n0            1       0.0       3   \n1            2       1.0       1   \n2            3       1.0       3   \n3            4       1.0       1   \n4            5       0.0       3   \n\n                                                Name  Sex   Age  SibSp  Parch  \\\n0                            Braund, Mr. Owen Harris    0  22.0      1      0   \n1  Cumings, Mrs. John Bradley (Florence Briggs Th...    1  38.0      1      0   \n2                             Heikkinen, Miss. Laina    1  26.0      0      0   \n3       Futrelle, Mrs. Jacques Heath (Lily May Peel)    1  35.0      1      0   \n4                           Allen, Mr. William Henry    0  35.0      0      0   \n\n             Ticket     Fare Cabin  Embarked  FamilySize  IsAlone  \n0         A/5 21171   7.2500   NaN         0           2        0  \n1          PC 17599  71.2833   C85         1           2        0  \n2  STON/O2. 3101282   7.9250   NaN         0           1        1  \n3            113803  53.1000  C123         0           2        0  \n4            373450   8.0500   NaN         0           1        1  ",
            "text/html": "<div>\n<style scoped>\n    .dataframe tbody tr th:only-of-type {\n        vertical-align: middle;\n    }\n\n    .dataframe tbody tr th {\n        vertical-align: top;\n    }\n\n    .dataframe thead th {\n        text-align: right;\n    }\n</style>\n<table border=\"1\" class=\"dataframe\">\n  <thead>\n    <tr style=\"text-align: right;\">\n      <th></th>\n      <th>PassengerId</th>\n      <th>Survived</th>\n      <th>Pclass</th>\n      <th>Name</th>\n      <th>Sex</th>\n      <th>Age</th>\n      <th>SibSp</th>\n      <th>Parch</th>\n      <th>Ticket</th>\n      <th>Fare</th>\n      <th>Cabin</th>\n      <th>Embarked</th>\n      <th>FamilySize</th>\n      <th>IsAlone</th>\n    </tr>\n  </thead>\n  <tbody>\n    <tr>\n      <th>0</th>\n      <td>1</td>\n      <td>0.0</td>\n      <td>3</td>\n      <td>Braund, Mr. Owen Harris</td>\n      <td>0</td>\n      <td>22.0</td>\n      <td>1</td>\n      <td>0</td>\n      <td>A/5 21171</td>\n      <td>7.2500</td>\n      <td>NaN</td>\n      <td>0</td>\n      <td>2</td>\n      <td>0</td>\n    </tr>\n    <tr>\n      <th>1</th>\n      <td>2</td>\n      <td>1.0</td>\n      <td>1</td>\n      <td>Cumings, Mrs. John Bradley (Florence Briggs Th...</td>\n      <td>1</td>\n      <td>38.0</td>\n      <td>1</td>\n      <td>0</td>\n      <td>PC 17599</td>\n      <td>71.2833</td>\n      <td>C85</td>\n      <td>1</td>\n      <td>2</td>\n      <td>0</td>\n    </tr>\n    <tr>\n      <th>2</th>\n      <td>3</td>\n      <td>1.0</td>\n      <td>3</td>\n      <td>Heikkinen, Miss. Laina</td>\n      <td>1</td>\n      <td>26.0</td>\n      <td>0</td>\n      <td>0</td>\n      <td>STON/O2. 3101282</td>\n      <td>7.9250</td>\n      <td>NaN</td>\n      <td>0</td>\n      <td>1</td>\n      <td>1</td>\n    </tr>\n    <tr>\n      <th>3</th>\n      <td>4</td>\n      <td>1.0</td>\n      <td>1</td>\n      <td>Futrelle, Mrs. Jacques Heath (Lily May Peel)</td>\n      <td>1</td>\n      <td>35.0</td>\n      <td>1</td>\n      <td>0</td>\n      <td>113803</td>\n      <td>53.1000</td>\n      <td>C123</td>\n      <td>0</td>\n      <td>2</td>\n      <td>0</td>\n    </tr>\n    <tr>\n      <th>4</th>\n      <td>5</td>\n      <td>0.0</td>\n      <td>3</td>\n      <td>Allen, Mr. William Henry</td>\n      <td>0</td>\n      <td>35.0</td>\n      <td>0</td>\n      <td>0</td>\n      <td>373450</td>\n      <td>8.0500</td>\n      <td>NaN</td>\n      <td>0</td>\n      <td>1</td>\n      <td>1</td>\n    </tr>\n  </tbody>\n</table>\n</div>"
          },
          "metadata": {}
        }
      ],
      "execution_count": null
    },
    {
      "cell_type": "code",
      "source": [
        "delete_columns = ['Name', 'PassengerId', 'Ticket', 'Cabin']\n",
        "data.drop(delete_columns, axis=1, inplace=True)\n",
        "\n",
        "train = data[:len(train)]\n",
        "test = data[len(train):]\n",
        "\n",
        "y_train = train['Survived']\n",
        "X_train = train.drop('Survived', axis=1)\n",
        "X_test = test.drop('Survived', axis=1)"
      ],
      "metadata": {
        "execution": {
          "iopub.status.busy": "2025-05-24T10:17:30.790117Z",
          "iopub.execute_input": "2025-05-24T10:17:30.790505Z",
          "iopub.status.idle": "2025-05-24T10:17:30.800367Z",
          "shell.execute_reply.started": "2025-05-24T10:17:30.790466Z",
          "shell.execute_reply": "2025-05-24T10:17:30.799001Z"
        },
        "trusted": true,
        "id": "JJyJ9-HaZTAR"
      },
      "outputs": [],
      "execution_count": null
    },
    {
      "cell_type": "code",
      "source": [
        "X_train.head()"
      ],
      "metadata": {
        "execution": {
          "iopub.status.busy": "2025-05-24T10:17:30.802178Z",
          "iopub.execute_input": "2025-05-24T10:17:30.802658Z",
          "iopub.status.idle": "2025-05-24T10:17:30.830640Z",
          "shell.execute_reply.started": "2025-05-24T10:17:30.802627Z",
          "shell.execute_reply": "2025-05-24T10:17:30.829315Z"
        },
        "trusted": true,
        "id": "5FjW1TARZTAS",
        "outputId": "25239d7b-7905-47c2-9518-3c7dfd18b0b0"
      },
      "outputs": [
        {
          "execution_count": 4,
          "output_type": "execute_result",
          "data": {
            "text/plain": "   Pclass  Sex   Age  SibSp  Parch     Fare  Embarked  FamilySize  IsAlone\n0       3    0  22.0      1      0   7.2500         0           2        0\n1       1    1  38.0      1      0  71.2833         1           2        0\n2       3    1  26.0      0      0   7.9250         0           1        1\n3       1    1  35.0      1      0  53.1000         0           2        0\n4       3    0  35.0      0      0   8.0500         0           1        1",
            "text/html": "<div>\n<style scoped>\n    .dataframe tbody tr th:only-of-type {\n        vertical-align: middle;\n    }\n\n    .dataframe tbody tr th {\n        vertical-align: top;\n    }\n\n    .dataframe thead th {\n        text-align: right;\n    }\n</style>\n<table border=\"1\" class=\"dataframe\">\n  <thead>\n    <tr style=\"text-align: right;\">\n      <th></th>\n      <th>Pclass</th>\n      <th>Sex</th>\n      <th>Age</th>\n      <th>SibSp</th>\n      <th>Parch</th>\n      <th>Fare</th>\n      <th>Embarked</th>\n      <th>FamilySize</th>\n      <th>IsAlone</th>\n    </tr>\n  </thead>\n  <tbody>\n    <tr>\n      <th>0</th>\n      <td>3</td>\n      <td>0</td>\n      <td>22.0</td>\n      <td>1</td>\n      <td>0</td>\n      <td>7.2500</td>\n      <td>0</td>\n      <td>2</td>\n      <td>0</td>\n    </tr>\n    <tr>\n      <th>1</th>\n      <td>1</td>\n      <td>1</td>\n      <td>38.0</td>\n      <td>1</td>\n      <td>0</td>\n      <td>71.2833</td>\n      <td>1</td>\n      <td>2</td>\n      <td>0</td>\n    </tr>\n    <tr>\n      <th>2</th>\n      <td>3</td>\n      <td>1</td>\n      <td>26.0</td>\n      <td>0</td>\n      <td>0</td>\n      <td>7.9250</td>\n      <td>0</td>\n      <td>1</td>\n      <td>1</td>\n    </tr>\n    <tr>\n      <th>3</th>\n      <td>1</td>\n      <td>1</td>\n      <td>35.0</td>\n      <td>1</td>\n      <td>0</td>\n      <td>53.1000</td>\n      <td>0</td>\n      <td>2</td>\n      <td>0</td>\n    </tr>\n    <tr>\n      <th>4</th>\n      <td>3</td>\n      <td>0</td>\n      <td>35.0</td>\n      <td>0</td>\n      <td>0</td>\n      <td>8.0500</td>\n      <td>0</td>\n      <td>1</td>\n      <td>1</td>\n    </tr>\n  </tbody>\n</table>\n</div>"
          },
          "metadata": {}
        }
      ],
      "execution_count": null
    },
    {
      "cell_type": "markdown",
      "source": [
        "# sklearn"
      ],
      "metadata": {
        "id": "UhAsfgzjZTAS"
      }
    },
    {
      "cell_type": "code",
      "source": [
        "from sklearn.linear_model import LogisticRegression\n",
        "\n",
        "\n",
        "clf = LogisticRegression(penalty='l2', solver='sag', random_state=0)"
      ],
      "metadata": {
        "execution": {
          "iopub.status.busy": "2025-05-24T10:17:30.832122Z",
          "iopub.execute_input": "2025-05-24T10:17:30.832545Z",
          "iopub.status.idle": "2025-05-24T10:17:32.702547Z",
          "shell.execute_reply.started": "2025-05-24T10:17:30.832508Z",
          "shell.execute_reply": "2025-05-24T10:17:32.701352Z"
        },
        "trusted": true,
        "id": "m5DqMlCjZTAT",
        "outputId": "4239585b-9781-4f93-8799-920dcfd75103"
      },
      "outputs": [
        {
          "name": "stderr",
          "text": "/opt/conda/lib/python3.10/site-packages/scipy/__init__.py:146: UserWarning: A NumPy version >=1.16.5 and <1.23.0 is required for this version of SciPy (detected version 1.23.5\n  warnings.warn(f\"A NumPy version >={np_minversion} and <{np_maxversion}\"\n",
          "output_type": "stream"
        }
      ],
      "execution_count": null
    },
    {
      "cell_type": "code",
      "source": [
        "from sklearn.ensemble import RandomForestClassifier\n",
        "\n",
        "\n",
        "clf = RandomForestClassifier(n_estimators=100, max_depth=2, random_state=0)"
      ],
      "metadata": {
        "execution": {
          "iopub.status.busy": "2025-05-24T10:17:32.704185Z",
          "iopub.execute_input": "2025-05-24T10:17:32.704642Z",
          "iopub.status.idle": "2025-05-24T10:17:33.062013Z",
          "shell.execute_reply.started": "2025-05-24T10:17:32.704601Z",
          "shell.execute_reply": "2025-05-24T10:17:33.061007Z"
        },
        "trusted": true,
        "id": "JjVEyhzNZTAT"
      },
      "outputs": [],
      "execution_count": null
    },
    {
      "cell_type": "code",
      "source": [
        "clf.fit(X_train, y_train)\n",
        "y_pred = clf.predict(X_test)"
      ],
      "metadata": {
        "execution": {
          "iopub.status.busy": "2025-05-24T10:17:33.063785Z",
          "iopub.execute_input": "2025-05-24T10:17:33.064266Z",
          "iopub.status.idle": "2025-05-24T10:17:33.287422Z",
          "shell.execute_reply.started": "2025-05-24T10:17:33.064227Z",
          "shell.execute_reply": "2025-05-24T10:17:33.286167Z"
        },
        "trusted": true,
        "id": "oJvb2pEFZTAT"
      },
      "outputs": [],
      "execution_count": null
    },
    {
      "cell_type": "code",
      "source": [
        "y_pred[:10]"
      ],
      "metadata": {
        "execution": {
          "iopub.status.busy": "2025-05-24T10:17:33.288961Z",
          "iopub.execute_input": "2025-05-24T10:17:33.289323Z",
          "iopub.status.idle": "2025-05-24T10:17:33.298059Z",
          "shell.execute_reply.started": "2025-05-24T10:17:33.289283Z",
          "shell.execute_reply": "2025-05-24T10:17:33.296716Z"
        },
        "trusted": true,
        "id": "mzW0lTsGZTAT",
        "outputId": "fa97f4ab-75c3-42dd-b28c-e61b30eef3b5"
      },
      "outputs": [
        {
          "execution_count": 8,
          "output_type": "execute_result",
          "data": {
            "text/plain": "array([0., 1., 0., 0., 1., 0., 1., 0., 1., 0.])"
          },
          "metadata": {}
        }
      ],
      "execution_count": null
    },
    {
      "cell_type": "code",
      "source": [
        "sub = pd.read_csv('../input/titanic/gender_submission.csv')"
      ],
      "metadata": {
        "execution": {
          "iopub.status.busy": "2025-05-24T10:17:33.301518Z",
          "iopub.execute_input": "2025-05-24T10:17:33.301877Z",
          "iopub.status.idle": "2025-05-24T10:17:33.315683Z",
          "shell.execute_reply.started": "2025-05-24T10:17:33.301847Z",
          "shell.execute_reply": "2025-05-24T10:17:33.314318Z"
        },
        "trusted": true,
        "id": "nAEaF10aZTAU"
      },
      "outputs": [],
      "execution_count": null
    },
    {
      "cell_type": "code",
      "source": [
        "sub['Survived'] = list(map(int, y_pred))\n",
        "sub.to_csv('submission_randomforest.csv', index=False)\n",
        "sub.head()"
      ],
      "metadata": {
        "execution": {
          "iopub.status.busy": "2025-05-24T10:17:33.317201Z",
          "iopub.execute_input": "2025-05-24T10:17:33.317663Z",
          "iopub.status.idle": "2025-05-24T10:17:33.339764Z",
          "shell.execute_reply.started": "2025-05-24T10:17:33.317621Z",
          "shell.execute_reply": "2025-05-24T10:17:33.338528Z"
        },
        "trusted": true,
        "id": "9Z_F6IStZTAU",
        "outputId": "18dafd66-e392-47aa-9a7a-13cd2342f8a2"
      },
      "outputs": [
        {
          "execution_count": 10,
          "output_type": "execute_result",
          "data": {
            "text/plain": "   PassengerId  Survived\n0          892         0\n1          893         1\n2          894         0\n3          895         0\n4          896         1",
            "text/html": "<div>\n<style scoped>\n    .dataframe tbody tr th:only-of-type {\n        vertical-align: middle;\n    }\n\n    .dataframe tbody tr th {\n        vertical-align: top;\n    }\n\n    .dataframe thead th {\n        text-align: right;\n    }\n</style>\n<table border=\"1\" class=\"dataframe\">\n  <thead>\n    <tr style=\"text-align: right;\">\n      <th></th>\n      <th>PassengerId</th>\n      <th>Survived</th>\n    </tr>\n  </thead>\n  <tbody>\n    <tr>\n      <th>0</th>\n      <td>892</td>\n      <td>0</td>\n    </tr>\n    <tr>\n      <th>1</th>\n      <td>893</td>\n      <td>1</td>\n    </tr>\n    <tr>\n      <th>2</th>\n      <td>894</td>\n      <td>0</td>\n    </tr>\n    <tr>\n      <th>3</th>\n      <td>895</td>\n      <td>0</td>\n    </tr>\n    <tr>\n      <th>4</th>\n      <td>896</td>\n      <td>1</td>\n    </tr>\n  </tbody>\n</table>\n</div>"
          },
          "metadata": {}
        }
      ],
      "execution_count": null
    },
    {
      "cell_type": "markdown",
      "source": [
        "# LightGBM"
      ],
      "metadata": {
        "id": "dcohciItZTAU"
      }
    },
    {
      "cell_type": "markdown",
      "source": [
        "> By specifying y_ train in stratify, the ratio of the training dataset and the validation dataset after the split will be equal.\n",
        "\n",
        "Ishihara, Shotaro; Murata, Hideki Kaggle Start Book in Python (KS Information Science Specialized Book) (p.252). Kodansha. Kindle edition."
      ],
      "metadata": {
        "id": "ZqLWxHYpZzAM"
      }
    },
    {
      "cell_type": "code",
      "source": [
        "from sklearn.model_selection import train_test_split\n",
        "\n",
        "\n",
        "X_train, X_valid, y_train, y_valid = \\\n",
        "    train_test_split(X_train, y_train, test_size=0.3,\n",
        "                     random_state=0, stratify=y_train)"
      ],
      "metadata": {
        "execution": {
          "iopub.status.busy": "2025-05-24T10:17:33.341316Z",
          "iopub.execute_input": "2025-05-24T10:17:33.341779Z",
          "iopub.status.idle": "2025-05-24T10:17:33.354050Z",
          "shell.execute_reply.started": "2025-05-24T10:17:33.341740Z",
          "shell.execute_reply": "2025-05-24T10:17:33.352789Z"
        },
        "trusted": true,
        "id": "VdQXJmYPZTAU"
      },
      "outputs": [],
      "execution_count": null
    },
    {
      "cell_type": "code",
      "source": [
        "categorical_features = ['Embarked', 'Pclass', 'Sex']"
      ],
      "metadata": {
        "execution": {
          "iopub.status.busy": "2025-05-24T10:17:33.355729Z",
          "iopub.execute_input": "2025-05-24T10:17:33.356182Z",
          "iopub.status.idle": "2025-05-24T10:17:33.366039Z",
          "shell.execute_reply.started": "2025-05-24T10:17:33.356143Z",
          "shell.execute_reply": "2025-05-24T10:17:33.364680Z"
        },
        "trusted": true,
        "id": "cCklymwjZTAU"
      },
      "outputs": [],
      "execution_count": null
    },
    {
      "cell_type": "markdown",
      "source": [
        "> Dataset is passed to the validation dataset as a reference to the training dataset lightgbm.\n",
        "\n",
        "Ishihara, Shotaro; Murata, Hideki Kaggle Start Book in Python (KS Information Science Specialized Book) (p.253). Kodansha. Kindle edition."
      ],
      "metadata": {
        "id": "fswT1Tw2aJ0Z"
      }
    },
    {
      "cell_type": "code",
      "source": [
        "import lightgbm as lgb\n",
        "\n",
        "\n",
        "lgb_train = lgb.Dataset(X_train, y_train,\n",
        "                        categorical_feature=categorical_features)\n",
        "lgb_eval = lgb.Dataset(X_valid, y_valid, reference=lgb_train,\n",
        "                       categorical_feature=categorical_features)\n",
        "\n",
        "params = {\n",
        "    'objective': 'binary'\n",
        "}\n",
        "\n",
        "model = lgb.train(params, lgb_train,\n",
        "                  valid_sets=[lgb_train, lgb_eval],\n",
        "                  num_boost_round=1000,\n",
        "                  callbacks=[lgb.early_stopping(stopping_rounds=10,\n",
        "                                                verbose=True),\n",
        "                             lgb.log_evaluation(10)])\n",
        "\n",
        "y_pred = model.predict(X_test, num_iteration=model.best_iteration)"
      ],
      "metadata": {
        "execution": {
          "iopub.status.busy": "2025-05-24T10:17:33.367309Z",
          "iopub.execute_input": "2025-05-24T10:17:33.367665Z",
          "iopub.status.idle": "2025-05-24T10:17:34.857503Z",
          "shell.execute_reply.started": "2025-05-24T10:17:33.367636Z",
          "shell.execute_reply": "2025-05-24T10:17:34.856228Z"
        },
        "trusted": true,
        "id": "3U9oizBgZTAV",
        "outputId": "dd33ab23-cd23-4278-e869-b83b52bbb6d9"
      },
      "outputs": [
        {
          "name": "stderr",
          "text": "/opt/conda/lib/python3.10/site-packages/lightgbm/basic.py:2065: UserWarning: Using categorical_feature in Dataset.\n  _log_warning('Using categorical_feature in Dataset.')\n/opt/conda/lib/python3.10/site-packages/lightgbm/basic.py:1780: UserWarning: Overriding the parameters from Reference Dataset.\n  _log_warning('Overriding the parameters from Reference Dataset.')\n/opt/conda/lib/python3.10/site-packages/lightgbm/basic.py:1513: UserWarning: categorical_column in param dict is overridden.\n  _log_warning(f'{cat_alias} in param dict is overridden.')\n",
          "output_type": "stream"
        },
        {
          "name": "stdout",
          "text": "[LightGBM] [Info] Number of positive: 239, number of negative: 384\n[LightGBM] [Warning] Auto-choosing col-wise multi-threading, the overhead of testing was 0.001120 seconds.\nYou can set `force_col_wise=true` to remove the overhead.\n[LightGBM] [Info] Total Bins 205\n[LightGBM] [Info] Number of data points in the train set: 623, number of used features: 9\n[LightGBM] [Info] [binary:BoostFromScore]: pavg=0.383628 -> initscore=-0.474179\n[LightGBM] [Info] Start training from score -0.474179\n[LightGBM] [Warning] No further splits with positive gain, best gain: -inf\nTraining until validation scores don't improve for 10 rounds\n[LightGBM] [Warning] No further splits with positive gain, best gain: -inf\n[LightGBM] [Warning] No further splits with positive gain, best gain: -inf\n[LightGBM] [Warning] No further splits with positive gain, best gain: -inf\n[LightGBM] [Warning] No further splits with positive gain, best gain: -inf\n[LightGBM] [Warning] No further splits with positive gain, best gain: -inf\n[LightGBM] [Warning] No further splits with positive gain, best gain: -inf\n[LightGBM] [Warning] No further splits with positive gain, best gain: -inf\n[LightGBM] [Warning] No further splits with positive gain, best gain: -inf\n[LightGBM] [Warning] No further splits with positive gain, best gain: -inf\n[10]\ttraining's binary_logloss: 0.420386\tvalid_1's binary_logloss: 0.476708\n[LightGBM] [Warning] No further splits with positive gain, best gain: -inf\n[LightGBM] [Warning] No further splits with positive gain, best gain: -inf\n[LightGBM] [Warning] No further splits with positive gain, best gain: -inf\n[LightGBM] [Warning] No further splits with positive gain, best gain: -inf\n[LightGBM] [Warning] No further splits with positive gain, best gain: -inf\n[LightGBM] [Warning] No further splits with positive gain, best gain: -inf\n[LightGBM] [Warning] No further splits with positive gain, best gain: -inf\n[LightGBM] [Warning] No further splits with positive gain, best gain: -inf\n[LightGBM] [Warning] No further splits with positive gain, best gain: -inf\n[LightGBM] [Warning] No further splits with positive gain, best gain: -inf\n[20]\ttraining's binary_logloss: 0.34128\tvalid_1's binary_logloss: 0.437279\n[LightGBM] [Warning] No further splits with positive gain, best gain: -inf\n[LightGBM] [Warning] No further splits with positive gain, best gain: -inf\n[LightGBM] [Warning] No further splits with positive gain, best gain: -inf\n[LightGBM] [Warning] No further splits with positive gain, best gain: -inf\n[LightGBM] [Warning] No further splits with positive gain, best gain: -inf\n[LightGBM] [Warning] No further splits with positive gain, best gain: -inf\n[LightGBM] [Warning] No further splits with positive gain, best gain: -inf\n[LightGBM] [Warning] No further splits with positive gain, best gain: -inf\n[LightGBM] [Warning] No further splits with positive gain, best gain: -inf\n[LightGBM] [Warning] No further splits with positive gain, best gain: -inf\n[30]\ttraining's binary_logloss: 0.297138\tvalid_1's binary_logloss: 0.437636\n[LightGBM] [Warning] No further splits with positive gain, best gain: -inf\n[LightGBM] [Warning] No further splits with positive gain, best gain: -inf\n[LightGBM] [Warning] No further splits with positive gain, best gain: -inf\nEarly stopping, best iteration is:\n[23]\ttraining's binary_logloss: 0.326948\tvalid_1's binary_logloss: 0.435703\n",
          "output_type": "stream"
        }
      ],
      "execution_count": null
    },
    {
      "cell_type": "code",
      "source": [
        "y_pred[:10]"
      ],
      "metadata": {
        "execution": {
          "iopub.status.busy": "2025-05-24T10:17:34.859004Z",
          "iopub.execute_input": "2025-05-24T10:17:34.859481Z",
          "iopub.status.idle": "2025-05-24T10:17:34.867179Z",
          "shell.execute_reply.started": "2025-05-24T10:17:34.859420Z",
          "shell.execute_reply": "2025-05-24T10:17:34.865818Z"
        },
        "trusted": true,
        "id": "Kor5f1bAZTAV",
        "outputId": "26de13e6-dd35-425f-a921-0efb6e7c8f3c"
      },
      "outputs": [
        {
          "execution_count": 14,
          "output_type": "execute_result",
          "data": {
            "text/plain": "array([0.0605672 , 0.53340112, 0.13712618, 0.07971355, 0.39226988,\n       0.50073752, 0.71047286, 0.17751357, 0.70499098, 0.05328827])"
          },
          "metadata": {}
        }
      ],
      "execution_count": null
    },
    {
      "cell_type": "markdown",
      "source": [
        ">In this case, the pred value is a continuous value between 0 and 1.\n",
        "\n",
        ">If y_ pred > 0.5, the value is converted to a discrete value y == 1, otherwise y == 0. Since “y_ pred > 0.5” yields a boolean value (true or false), it is converted to “1 or 0” using astype( int).\n",
        "\n",
        "Ishihara, Shotaro; Murata, Hideki Kaggle Start Book in Python (KS Information Science Specialized Book) (p.253). Kodansha. Kindle edition."
      ],
      "metadata": {
        "id": "wLJn5zklajsp"
      }
    },
    {
      "cell_type": "code",
      "source": [
        "y_pred = (y_pred > 0.5).astype(int)\n",
        "y_pred[:10]"
      ],
      "metadata": {
        "execution": {
          "iopub.status.busy": "2025-05-24T10:17:34.868824Z",
          "iopub.execute_input": "2025-05-24T10:17:34.869275Z",
          "iopub.status.idle": "2025-05-24T10:17:34.883061Z",
          "shell.execute_reply.started": "2025-05-24T10:17:34.869236Z",
          "shell.execute_reply": "2025-05-24T10:17:34.881765Z"
        },
        "trusted": true,
        "id": "qhvWdDCmZTAV",
        "outputId": "85f355a2-38ee-44de-b6a8-d9f89299b6fe"
      },
      "outputs": [
        {
          "execution_count": 15,
          "output_type": "execute_result",
          "data": {
            "text/plain": "array([0, 1, 0, 0, 0, 1, 1, 0, 1, 0])"
          },
          "metadata": {}
        }
      ],
      "execution_count": null
    },
    {
      "cell_type": "code",
      "source": [
        "sub['Survived'] = y_pred\n",
        "sub.to_csv('submission_lightgbm.csv', index=False)\n",
        "\n",
        "sub.head()"
      ],
      "metadata": {
        "scrolled": true,
        "execution": {
          "iopub.status.busy": "2025-05-24T10:17:34.884260Z",
          "iopub.execute_input": "2025-05-24T10:17:34.884622Z",
          "iopub.status.idle": "2025-05-24T10:17:34.903324Z",
          "shell.execute_reply.started": "2025-05-24T10:17:34.884593Z",
          "shell.execute_reply": "2025-05-24T10:17:34.902081Z"
        },
        "trusted": true,
        "id": "mgx0ODh0ZTAV",
        "outputId": "439c61ec-8b4a-42da-f747-c269523f9989"
      },
      "outputs": [
        {
          "execution_count": 16,
          "output_type": "execute_result",
          "data": {
            "text/plain": "   PassengerId  Survived\n0          892         0\n1          893         1\n2          894         0\n3          895         0\n4          896         0",
            "text/html": "<div>\n<style scoped>\n    .dataframe tbody tr th:only-of-type {\n        vertical-align: middle;\n    }\n\n    .dataframe tbody tr th {\n        vertical-align: top;\n    }\n\n    .dataframe thead th {\n        text-align: right;\n    }\n</style>\n<table border=\"1\" class=\"dataframe\">\n  <thead>\n    <tr style=\"text-align: right;\">\n      <th></th>\n      <th>PassengerId</th>\n      <th>Survived</th>\n    </tr>\n  </thead>\n  <tbody>\n    <tr>\n      <th>0</th>\n      <td>892</td>\n      <td>0</td>\n    </tr>\n    <tr>\n      <th>1</th>\n      <td>893</td>\n      <td>1</td>\n    </tr>\n    <tr>\n      <th>2</th>\n      <td>894</td>\n      <td>0</td>\n    </tr>\n    <tr>\n      <th>3</th>\n      <td>895</td>\n      <td>0</td>\n    </tr>\n    <tr>\n      <th>4</th>\n      <td>896</td>\n      <td>0</td>\n    </tr>\n  </tbody>\n</table>\n</div>"
          },
          "metadata": {}
        }
      ],
      "execution_count": null
    },
    {
      "cell_type": "code",
      "source": [
        "sub.to_csv('submission.csv', index=False)"
      ],
      "metadata": {
        "trusted": true,
        "execution": {
          "iopub.status.busy": "2025-05-24T10:30:47.683280Z",
          "iopub.execute_input": "2025-05-24T10:30:47.684314Z",
          "iopub.status.idle": "2025-05-24T10:30:47.690655Z",
          "shell.execute_reply.started": "2025-05-24T10:30:47.684277Z",
          "shell.execute_reply": "2025-05-24T10:30:47.689669Z"
        },
        "id": "QaeczfL_ZTAV"
      },
      "outputs": [],
      "execution_count": null
    }
  ]
}